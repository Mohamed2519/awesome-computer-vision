{
  "nbformat": 4,
  "nbformat_minor": 0,
  "metadata": {
    "colab": {
      "name": " RSNA_Pneumonia.ipynb",
      "provenance": [],
      "collapsed_sections": [
        "weWVohaT0xTS",
        "2RiE0ASp09y-",
        "jZeJqtxNtBp2",
        "3jqWgqWCtGRF",
        "mqC6Vzm-2hsa",
        "sQ_lR3Dr1HcC",
        "DKMMEpqr1VMA",
        "4cCVCKic1dcF",
        "qOwnhu4h1inU",
        "gl5-bg5w1pp9",
        "0XIXEZVC1vX8"
      ],
      "machine_shape": "hm",
      "include_colab_link": true
    },
    "kernelspec": {
      "name": "python3",
      "display_name": "Python 3"
    },
    "accelerator": "GPU"
  },
  "cells": [
    {
      "cell_type": "markdown",
      "metadata": {
        "id": "view-in-github",
        "colab_type": "text"
      },
      "source": [
        "<a href=\"https://colab.research.google.com/github/Mohamed2519/awesome-computer-vision/blob/master/RSNA_Pneumonia.ipynb\" target=\"_parent\"><img src=\"https://colab.research.google.com/assets/colab-badge.svg\" alt=\"Open In Colab\"/></a>"
      ]
    },
    {
      "cell_type": "markdown",
      "metadata": {
        "id": "_hCfxUVG5WuT",
        "colab_type": "text"
      },
      "source": [
        "## **Mohamed** **Yasser** \n",
        "\n",
        "### **Coursat.ai** (Computer vision course)\n",
        "\n",
        "**RSNA_Pneumonia Classification**"
      ]
    },
    {
      "cell_type": "markdown",
      "metadata": {
        "id": "weWVohaT0xTS",
        "colab_type": "text"
      },
      "source": [
        "## **Install libraries and upload data**"
      ]
    },
    {
      "cell_type": "code",
      "metadata": {
        "id": "yb8gkhu3n0N9",
        "colab_type": "code",
        "colab": {}
      },
      "source": [
        "!pip3 install --upgrade --force-reinstall kaggle"
      ],
      "execution_count": 0,
      "outputs": []
    },
    {
      "cell_type": "code",
      "metadata": {
        "id": "G0qiipJKu0_d",
        "colab_type": "code",
        "colab": {}
      },
      "source": [
        "! pip install -q kaggle"
      ],
      "execution_count": 0,
      "outputs": []
    },
    {
      "cell_type": "code",
      "metadata": {
        "id": "blAG_AfVUkcJ",
        "colab_type": "code",
        "colab": {}
      },
      "source": [
        "from google.colab import drive\n",
        "drive.mount('/content/drive')"
      ],
      "execution_count": 0,
      "outputs": []
    },
    {
      "cell_type": "code",
      "metadata": {
        "id": "n4gt8HwIu3TU",
        "colab_type": "code",
        "colab": {}
      },
      "source": [
        "from google.colab import files\n",
        "files.upload()"
      ],
      "execution_count": 0,
      "outputs": []
    },
    {
      "cell_type": "code",
      "metadata": {
        "id": "piJH9Pefu8cS",
        "colab_type": "code",
        "outputId": "73b35f00-fef6-43af-bfcb-ef641126eb8a",
        "colab": {
          "base_uri": "https://localhost:8080/",
          "height": 34
        }
      },
      "source": [
        "! mkdir ~/.kaggle\n",
        "\n",
        "! cp kaggle.json ~/.kaggle/\n",
        "! chmod 600 ~/.kaggle/kaggle.json"
      ],
      "execution_count": 0,
      "outputs": [
        {
          "output_type": "stream",
          "text": [
            "mkdir: cannot create directory ‘/root/.kaggle’: File exists\n"
          ],
          "name": "stdout"
        }
      ]
    },
    {
      "cell_type": "code",
      "metadata": {
        "id": "Q0hTlJVbn6NI",
        "colab_type": "code",
        "outputId": "90c61c76-df7b-456f-e25d-05af41184cf9",
        "colab": {
          "base_uri": "https://localhost:8080/",
          "height": 70
        }
      },
      "source": [
        "!kaggle competitions download -c rsna-pneumonia-detection-challenge"
      ],
      "execution_count": 0,
      "outputs": [
        {
          "output_type": "stream",
          "text": [
            "Downloading rsna-pneumonia-detection-challenge.zip to /content\n",
            "100% 3.65G/3.66G [01:09<00:00, 70.9MB/s]\n",
            "100% 3.66G/3.66G [01:09<00:00, 56.2MB/s]\n"
          ],
          "name": "stdout"
        }
      ]
    },
    {
      "cell_type": "code",
      "metadata": {
        "id": "I83PmuNywA7V",
        "colab_type": "code",
        "outputId": "3a77dfc6-be7f-4055-99ce-bb3ae1e73f29",
        "colab": {
          "base_uri": "https://localhost:8080/",
          "height": 105
        }
      },
      "source": [
        "!ls"
      ],
      "execution_count": 0,
      "outputs": [
        {
          "output_type": "stream",
          "text": [
            "'GCP Credits Request Link - RSNA.txt'\t  stage_2_detailed_class_info.csv\n",
            "'kaggle (1).json'\t\t\t  stage_2_sample_submission.csv\n",
            " kaggle.json\t\t\t\t  stage_2_test_images\n",
            " rsna-pneumonia-detection-challenge.zip   stage_2_train_images\n",
            " sample_data\t\t\t\t  stage_2_train_labels.csv\n"
          ],
          "name": "stdout"
        }
      ]
    },
    {
      "cell_type": "code",
      "metadata": {
        "id": "KVuhaYRgqQuv",
        "colab_type": "code",
        "colab": {}
      },
      "source": [
        "!unzip rsna-pneumonia-detection-challenge.zip"
      ],
      "execution_count": 0,
      "outputs": []
    },
    {
      "cell_type": "code",
      "metadata": {
        "id": "bdYg-02bpN1t",
        "colab_type": "code",
        "colab": {}
      },
      "source": [
        "!pip install pydicom"
      ],
      "execution_count": 0,
      "outputs": []
    },
    {
      "cell_type": "markdown",
      "metadata": {
        "id": "2RiE0ASp09y-",
        "colab_type": "text"
      },
      "source": [
        "## **Data Visualization**"
      ]
    },
    {
      "cell_type": "code",
      "metadata": {
        "id": "ru5LHJ01pCt7",
        "colab_type": "code",
        "colab": {}
      },
      "source": [
        "import pydicom, numpy as np\n",
        "import pandas as pd"
      ],
      "execution_count": 0,
      "outputs": []
    },
    {
      "cell_type": "code",
      "metadata": {
        "id": "4_Bapq7IrFCM",
        "colab_type": "code",
        "colab": {}
      },
      "source": [
        "train_dir = 'stage_2_train_images/'"
      ],
      "execution_count": 0,
      "outputs": []
    },
    {
      "cell_type": "code",
      "metadata": {
        "id": "8jmQOGskpGce",
        "colab_type": "code",
        "outputId": "78d690bb-e0f8-476b-dd5f-7fa8120b37c9",
        "colab": {
          "base_uri": "https://localhost:8080/",
          "height": 141
        }
      },
      "source": [
        "df = pd.read_csv('stage_2_train_labels.csv')\n",
        "print(df.iloc[0])"
      ],
      "execution_count": 0,
      "outputs": [
        {
          "output_type": "stream",
          "text": [
            "patientId    0004cfab-14fd-4e49-80ba-63a80b6bddd6\n",
            "x                                             NaN\n",
            "y                                             NaN\n",
            "width                                         NaN\n",
            "height                                        NaN\n",
            "Target                                          0\n",
            "Name: 0, dtype: object\n"
          ],
          "name": "stdout"
        }
      ]
    },
    {
      "cell_type": "code",
      "metadata": {
        "id": "Lo4CwmeWnNnB",
        "colab_type": "code",
        "outputId": "2db018ed-f9f1-4717-ecf8-fb7147853ff3",
        "colab": {
          "base_uri": "https://localhost:8080/",
          "height": 204
        }
      },
      "source": [
        "df.head()"
      ],
      "execution_count": 0,
      "outputs": [
        {
          "output_type": "execute_result",
          "data": {
            "text/html": [
              "<div>\n",
              "<style scoped>\n",
              "    .dataframe tbody tr th:only-of-type {\n",
              "        vertical-align: middle;\n",
              "    }\n",
              "\n",
              "    .dataframe tbody tr th {\n",
              "        vertical-align: top;\n",
              "    }\n",
              "\n",
              "    .dataframe thead th {\n",
              "        text-align: right;\n",
              "    }\n",
              "</style>\n",
              "<table border=\"1\" class=\"dataframe\">\n",
              "  <thead>\n",
              "    <tr style=\"text-align: right;\">\n",
              "      <th></th>\n",
              "      <th>patientId</th>\n",
              "      <th>x</th>\n",
              "      <th>y</th>\n",
              "      <th>width</th>\n",
              "      <th>height</th>\n",
              "      <th>Target</th>\n",
              "    </tr>\n",
              "  </thead>\n",
              "  <tbody>\n",
              "    <tr>\n",
              "      <th>0</th>\n",
              "      <td>0004cfab-14fd-4e49-80ba-63a80b6bddd6</td>\n",
              "      <td>NaN</td>\n",
              "      <td>NaN</td>\n",
              "      <td>NaN</td>\n",
              "      <td>NaN</td>\n",
              "      <td>0</td>\n",
              "    </tr>\n",
              "    <tr>\n",
              "      <th>1</th>\n",
              "      <td>00313ee0-9eaa-42f4-b0ab-c148ed3241cd</td>\n",
              "      <td>NaN</td>\n",
              "      <td>NaN</td>\n",
              "      <td>NaN</td>\n",
              "      <td>NaN</td>\n",
              "      <td>0</td>\n",
              "    </tr>\n",
              "    <tr>\n",
              "      <th>2</th>\n",
              "      <td>00322d4d-1c29-4943-afc9-b6754be640eb</td>\n",
              "      <td>NaN</td>\n",
              "      <td>NaN</td>\n",
              "      <td>NaN</td>\n",
              "      <td>NaN</td>\n",
              "      <td>0</td>\n",
              "    </tr>\n",
              "    <tr>\n",
              "      <th>3</th>\n",
              "      <td>003d8fa0-6bf1-40ed-b54c-ac657f8495c5</td>\n",
              "      <td>NaN</td>\n",
              "      <td>NaN</td>\n",
              "      <td>NaN</td>\n",
              "      <td>NaN</td>\n",
              "      <td>0</td>\n",
              "    </tr>\n",
              "    <tr>\n",
              "      <th>4</th>\n",
              "      <td>00436515-870c-4b36-a041-de91049b9ab4</td>\n",
              "      <td>264.0</td>\n",
              "      <td>152.0</td>\n",
              "      <td>213.0</td>\n",
              "      <td>379.0</td>\n",
              "      <td>1</td>\n",
              "    </tr>\n",
              "  </tbody>\n",
              "</table>\n",
              "</div>"
            ],
            "text/plain": [
              "                              patientId      x      y  width  height  Target\n",
              "0  0004cfab-14fd-4e49-80ba-63a80b6bddd6    NaN    NaN    NaN     NaN       0\n",
              "1  00313ee0-9eaa-42f4-b0ab-c148ed3241cd    NaN    NaN    NaN     NaN       0\n",
              "2  00322d4d-1c29-4943-afc9-b6754be640eb    NaN    NaN    NaN     NaN       0\n",
              "3  003d8fa0-6bf1-40ed-b54c-ac657f8495c5    NaN    NaN    NaN     NaN       0\n",
              "4  00436515-870c-4b36-a041-de91049b9ab4  264.0  152.0  213.0   379.0       1"
            ]
          },
          "metadata": {
            "tags": []
          },
          "execution_count": 7
        }
      ]
    },
    {
      "cell_type": "code",
      "metadata": {
        "id": "iuh6TsNMnHz8",
        "colab_type": "code",
        "outputId": "0d0dc05c-6979-4a87-d4a4-b07dbf6828d7",
        "colab": {
          "base_uri": "https://localhost:8080/",
          "height": 34
        }
      },
      "source": [
        "len(df)"
      ],
      "execution_count": 0,
      "outputs": [
        {
          "output_type": "execute_result",
          "data": {
            "text/plain": [
              "30227"
            ]
          },
          "metadata": {
            "tags": []
          },
          "execution_count": 8
        }
      ]
    },
    {
      "cell_type": "code",
      "metadata": {
        "id": "TVPMeU1QnEpK",
        "colab_type": "code",
        "outputId": "b9a9445a-0770-4d1f-e47d-7fd2d7935857",
        "colab": {
          "base_uri": "https://localhost:8080/",
          "height": 400
        }
      },
      "source": [
        "df.hist()"
      ],
      "execution_count": 0,
      "outputs": [
        {
          "output_type": "execute_result",
          "data": {
            "text/plain": [
              "array([[<matplotlib.axes._subplots.AxesSubplot object at 0x7f71a808ce48>,\n",
              "        <matplotlib.axes._subplots.AxesSubplot object at 0x7f71a806d128>],\n",
              "       [<matplotlib.axes._subplots.AxesSubplot object at 0x7f71a8021390>,\n",
              "        <matplotlib.axes._subplots.AxesSubplot object at 0x7f71a7fd05f8>],\n",
              "       [<matplotlib.axes._subplots.AxesSubplot object at 0x7f71a8000860>,\n",
              "        <matplotlib.axes._subplots.AxesSubplot object at 0x7f71a7fb2ac8>]],\n",
              "      dtype=object)"
            ]
          },
          "metadata": {
            "tags": []
          },
          "execution_count": 9
        },
        {
          "output_type": "display_data",
          "data": {
            "image/png": "[encoded data removed]",
            "text/plain": [
              "<Figure size 432x288 with 6 Axes>"
            ]
          },
          "metadata": {
            "tags": [],
            "needs_background": "light"
          }
        }
      ]
    },
    {
      "cell_type": "code",
      "metadata": {
        "id": "E-4Xdj8qrZTP",
        "colab_type": "code",
        "outputId": "0a0d2aaf-5704-4de4-cd9a-b7e3d1e1cf5b",
        "colab": {
          "base_uri": "https://localhost:8080/",
          "height": 612
        }
      },
      "source": [
        "patientId = df['patientId'][3]\n",
        "dcm_file = train_dir + '%s.dcm' % patientId\n",
        "dcm_data = pydicom.read_file(dcm_file)\n",
        "\n",
        "print(dcm_data)"
      ],
      "execution_count": 0,
      "outputs": [
        {
          "output_type": "stream",
          "text": [
            "(0008, 0005) Specific Character Set              CS: 'ISO_IR 100'\n",
            "(0008, 0016) SOP Class UID                       UI: Secondary Capture Image Storage\n",
            "(0008, 0018) SOP Instance UID                    UI: 1.2.276.0.7230010.3.1.4.8323329.2293.1517874295.733882\n",
            "(0008, 0020) Study Date                          DA: '19010101'\n",
            "(0008, 0030) Study Time                          TM: '000000.00'\n",
            "(0008, 0050) Accession Number                    SH: ''\n",
            "(0008, 0060) Modality                            CS: 'CR'\n",
            "(0008, 0064) Conversion Type                     CS: 'WSD'\n",
            "(0008, 0090) Referring Physician's Name          PN: ''\n",
            "(0008, 103e) Series Description                  LO: 'view: PA'\n",
            "(0010, 0010) Patient's Name                      PN: '003d8fa0-6bf1-40ed-b54c-ac657f8495c5'\n",
            "(0010, 0020) Patient ID                          LO: '003d8fa0-6bf1-40ed-b54c-ac657f8495c5'\n",
            "(0010, 0030) Patient's Birth Date                DA: ''\n",
            "(0010, 0040) Patient's Sex                       CS: 'M'\n",
            "(0010, 1010) Patient's Age                       AS: '28'\n",
            "(0018, 0015) Body Part Examined                  CS: 'CHEST'\n",
            "(0018, 5101) View Position                       CS: 'PA'\n",
            "(0020, 000d) Study Instance UID                  UI: 1.2.276.0.7230010.3.1.2.8323329.2293.1517874295.733881\n",
            "(0020, 000e) Series Instance UID                 UI: 1.2.276.0.7230010.3.1.3.8323329.2293.1517874295.733880\n",
            "(0020, 0010) Study ID                            SH: ''\n",
            "(0020, 0011) Series Number                       IS: \"1\"\n",
            "(0020, 0013) Instance Number                     IS: \"1\"\n",
            "(0020, 0020) Patient Orientation                 CS: ''\n",
            "(0028, 0002) Samples per Pixel                   US: 1\n",
            "(0028, 0004) Photometric Interpretation          CS: 'MONOCHROME2'\n",
            "(0028, 0010) Rows                                US: 1024\n",
            "(0028, 0011) Columns                             US: 1024\n",
            "(0028, 0030) Pixel Spacing                       DS: [0.14300000000000002, 0.14300000000000002]\n",
            "(0028, 0100) Bits Allocated                      US: 8\n",
            "(0028, 0101) Bits Stored                         US: 8\n",
            "(0028, 0102) High Bit                            US: 7\n",
            "(0028, 0103) Pixel Representation                US: 0\n",
            "(0028, 2110) Lossy Image Compression             CS: '01'\n",
            "(0028, 2114) Lossy Image Compression Method      CS: 'ISO_10918_1'\n",
            "(7fe0, 0010) Pixel Data                          OB: Array of 155284 elements\n"
          ],
          "name": "stdout"
        }
      ]
    },
    {
      "cell_type": "code",
      "metadata": {
        "id": "bxOPoOlPUmxC",
        "colab_type": "code",
        "outputId": "b8886a56-b30f-4544-bfe0-3cd8473222f4",
        "colab": {
          "base_uri": "https://localhost:8080/",
          "height": 34
        }
      },
      "source": [
        "len(df['Target'])"
      ],
      "execution_count": 0,
      "outputs": [
        {
          "output_type": "execute_result",
          "data": {
            "text/plain": [
              "30227"
            ]
          },
          "metadata": {
            "tags": []
          },
          "execution_count": 16
        }
      ]
    },
    {
      "cell_type": "code",
      "metadata": {
        "id": "v2kj4qykrs71",
        "colab_type": "code",
        "outputId": "419f9d71-e75b-49fd-c05b-3cbe7731ff37",
        "colab": {
          "base_uri": "https://localhost:8080/",
          "height": 68
        }
      },
      "source": [
        "\n",
        "im = dcm_data.pixel_array\n",
        "print(type(im))\n",
        "print(im.dtype)\n",
        "print(im.shape)"
      ],
      "execution_count": 0,
      "outputs": [
        {
          "output_type": "stream",
          "text": [
            "<class 'numpy.ndarray'>\n",
            "uint8\n",
            "(1024, 1024)\n"
          ],
          "name": "stdout"
        }
      ]
    },
    {
      "cell_type": "code",
      "metadata": {
        "id": "lWdYd7HwsB6c",
        "colab_type": "code",
        "outputId": "48f5fbf4-4218-4580-dbf0-4363ff7f238a",
        "colab": {
          "base_uri": "https://localhost:8080/",
          "height": 286
        }
      },
      "source": [
        "\n",
        "import matplotlib.pyplot as plt\n",
        "\n",
        "plt.imshow(im, cmap=plt.cm.gist_gray)\n"
      ],
      "execution_count": 0,
      "outputs": [
        {
          "output_type": "execute_result",
          "data": {
            "text/plain": [
              "<matplotlib.image.AxesImage at 0x7f71a7910080>"
            ]
          },
          "metadata": {
            "tags": []
          },
          "execution_count": 12
        },
        {
          "output_type": "display_data",
          "data": {
            "image/png": "[encoded data removed]",
            "text/plain": [
              "<Figure size 432x288 with 1 Axes>"
            ]
          },
          "metadata": {
            "tags": [],
            "needs_background": "light"
          }
        }
      ]
    },
    {
      "cell_type": "code",
      "metadata": {
        "id": "_xUylP-9sclg",
        "colab_type": "code",
        "colab": {}
      },
      "source": [
        "def parse_data(df, parent_dir):\n",
        "    \"\"\"\n",
        "    Method to read a CSV file (Pandas dataframe) and parse the \n",
        "    data into the following nested dictionary:\n",
        "\n",
        "      parsed = {\n",
        "        \n",
        "        'patientId-00': {\n",
        "            'dicom': path/to/dicom/file,\n",
        "            'label': either 0 or 1 for normal or pnuemonia, \n",
        "            'boxes': list of box(es)\n",
        "        },\n",
        "        'patientId-01': {\n",
        "            'dicom': path/to/dicom/file,\n",
        "            'label': either 0 or 1 for normal or pnuemonia, \n",
        "            'boxes': list of box(es)\n",
        "        }, ...\n",
        "\n",
        "      }\n",
        "\n",
        "    \"\"\"\n",
        "    # --- Define lambda to extract coords in list [y, x, height, width]\n",
        "    extract_box = lambda row: [row['y'], row['x'], row['height'], row['width']]\n",
        "\n",
        "    parsed = {}\n",
        "    for n, row in df.iterrows():\n",
        "        # --- Initialize patient entry into parsed \n",
        "        pid = row['patientId']\n",
        "        if pid not in parsed:\n",
        "            parsed[pid] = {\n",
        "                'dicom': parent_dir + '%s.dcm' % pid,\n",
        "                'label': row['Target'],\n",
        "                'boxes': []}\n",
        "\n",
        "        # --- Add box if opacity is present\n",
        "        if parsed[pid]['label'] == 1:\n",
        "            parsed[pid]['boxes'].append(extract_box(row))\n",
        "\n",
        "    return parsed"
      ],
      "execution_count": 0,
      "outputs": []
    },
    {
      "cell_type": "code",
      "metadata": {
        "id": "7tANSqhhsg_z",
        "colab_type": "code",
        "colab": {}
      },
      "source": [
        "parsed = parse_data(df, train_dir)"
      ],
      "execution_count": 0,
      "outputs": []
    },
    {
      "cell_type": "code",
      "metadata": {
        "id": "G5w8QeNVsk6_",
        "colab_type": "code",
        "outputId": "fe60ac22-de14-499e-c4a6-cbe49532974a",
        "colab": {
          "base_uri": "https://localhost:8080/",
          "height": 34
        }
      },
      "source": [
        "print(parsed['00436515-870c-4b36-a041-de91049b9ab4'])\n"
      ],
      "execution_count": 0,
      "outputs": [
        {
          "output_type": "stream",
          "text": [
            "{'dicom': 'stage_2_train_images/00436515-870c-4b36-a041-de91049b9ab4.dcm', 'label': 1, 'boxes': [[152.0, 264.0, 379.0, 213.0], [152.0, 562.0, 453.0, 256.0]]}\n"
          ],
          "name": "stdout"
        }
      ]
    },
    {
      "cell_type": "code",
      "metadata": {
        "id": "b9tf4p43so6D",
        "colab_type": "code",
        "colab": {}
      },
      "source": [
        "def draw(data):\n",
        "    \"\"\"\n",
        "    Method to draw single patient with bounding box(es) if present \n",
        "\n",
        "    \"\"\"\n",
        "    # --- Open DICOM file\n",
        "    d = pydicom.read_file(data['dicom'])\n",
        "    im = d.pixel_array\n",
        "\n",
        "    # --- Convert from single-channel grayscale to 3-channel RGB\n",
        "    im = np.stack([im] * 3, axis=2)\n",
        "\n",
        "    # --- Add boxes with random color if present\n",
        "    for box in data['boxes']:\n",
        "        rgb = np.floor(np.random.rand(3) * 256).astype('int')\n",
        "        im = overlay_box(im=im, box=box, rgb=rgb, stroke=6)\n",
        "\n",
        "    plt.imshow(im, cmap=plt.cm.gist_gray)\n",
        "    \n",
        "\n",
        "def overlay_box(im, box, rgb, stroke=1):\n",
        "    \"\"\"\n",
        "    Method to overlay single box on image\n",
        "\n",
        "    \"\"\"\n",
        "    # --- Convert coordinates to integers\n",
        "    box = [int(b) for b in box]\n",
        "    \n",
        "    # --- Extract coordinates\n",
        "    y1, x1, height, width = box\n",
        "    y2 = y1 + height\n",
        "    x2 = x1 + width\n",
        "\n",
        "    im[y1:y1 + stroke, x1:x2] = rgb\n",
        "    im[y2:y2 + stroke, x1:x2] = rgb\n",
        "    im[y1:y2, x1:x1 + stroke] = rgb\n",
        "    im[y1:y2, x2:x2 + stroke] = rgb\n",
        "\n",
        "    return im"
      ],
      "execution_count": 0,
      "outputs": []
    },
    {
      "cell_type": "markdown",
      "metadata": {
        "id": "jZeJqtxNtBp2",
        "colab_type": "text"
      },
      "source": [
        "## Defected"
      ]
    },
    {
      "cell_type": "code",
      "metadata": {
        "id": "9HvJZqZ6sVeV",
        "colab_type": "code",
        "outputId": "a5103ebe-6e73-432e-d281-857756b80026",
        "colab": {
          "base_uri": "https://localhost:8080/",
          "height": 111
        }
      },
      "source": [
        "df[df['patientId'] == '00436515-870c-4b36-a041-de91049b9ab4']"
      ],
      "execution_count": 0,
      "outputs": [
        {
          "output_type": "execute_result",
          "data": {
            "text/html": [
              "<div>\n",
              "<style scoped>\n",
              "    .dataframe tbody tr th:only-of-type {\n",
              "        vertical-align: middle;\n",
              "    }\n",
              "\n",
              "    .dataframe tbody tr th {\n",
              "        vertical-align: top;\n",
              "    }\n",
              "\n",
              "    .dataframe thead th {\n",
              "        text-align: right;\n",
              "    }\n",
              "</style>\n",
              "<table border=\"1\" class=\"dataframe\">\n",
              "  <thead>\n",
              "    <tr style=\"text-align: right;\">\n",
              "      <th></th>\n",
              "      <th>patientId</th>\n",
              "      <th>x</th>\n",
              "      <th>y</th>\n",
              "      <th>width</th>\n",
              "      <th>height</th>\n",
              "      <th>Target</th>\n",
              "    </tr>\n",
              "  </thead>\n",
              "  <tbody>\n",
              "    <tr>\n",
              "      <th>4</th>\n",
              "      <td>00436515-870c-4b36-a041-de91049b9ab4</td>\n",
              "      <td>264.0</td>\n",
              "      <td>152.0</td>\n",
              "      <td>213.0</td>\n",
              "      <td>379.0</td>\n",
              "      <td>1</td>\n",
              "    </tr>\n",
              "    <tr>\n",
              "      <th>5</th>\n",
              "      <td>00436515-870c-4b36-a041-de91049b9ab4</td>\n",
              "      <td>562.0</td>\n",
              "      <td>152.0</td>\n",
              "      <td>256.0</td>\n",
              "      <td>453.0</td>\n",
              "      <td>1</td>\n",
              "    </tr>\n",
              "  </tbody>\n",
              "</table>\n",
              "</div>"
            ],
            "text/plain": [
              "                              patientId      x      y  width  height  Target\n",
              "4  00436515-870c-4b36-a041-de91049b9ab4  264.0  152.0  213.0   379.0       1\n",
              "5  00436515-870c-4b36-a041-de91049b9ab4  562.0  152.0  256.0   453.0       1"
            ]
          },
          "metadata": {
            "tags": []
          },
          "execution_count": 17
        }
      ]
    },
    {
      "cell_type": "code",
      "metadata": {
        "id": "mHE4-07UtBhY",
        "colab_type": "code",
        "outputId": "588be193-af9c-4c2b-f65d-940cd85ba139",
        "colab": {
          "base_uri": "https://localhost:8080/",
          "height": 269
        }
      },
      "source": [
        "draw(parsed['00436515-870c-4b36-a041-de91049b9ab4'])"
      ],
      "execution_count": 0,
      "outputs": [
        {
          "output_type": "display_data",
          "data": {
            "image/png": "[encoded data removed]",
            "text/plain": [
              "<Figure size 432x288 with 1 Axes>"
            ]
          },
          "metadata": {
            "tags": [],
            "needs_background": "light"
          }
        }
      ]
    },
    {
      "cell_type": "markdown",
      "metadata": {
        "id": "3jqWgqWCtGRF",
        "colab_type": "text"
      },
      "source": [
        "## Healthy"
      ]
    },
    {
      "cell_type": "code",
      "metadata": {
        "id": "yJ5zwKPas9t6",
        "colab_type": "code",
        "outputId": "553a5a40-d590-477a-9f3d-e7a3fdd5806c",
        "colab": {
          "base_uri": "https://localhost:8080/",
          "height": 80
        }
      },
      "source": [
        "df[df['patientId'] == '0004cfab-14fd-4e49-80ba-63a80b6bddd6']"
      ],
      "execution_count": 0,
      "outputs": [
        {
          "output_type": "execute_result",
          "data": {
            "text/html": [
              "<div>\n",
              "<style scoped>\n",
              "    .dataframe tbody tr th:only-of-type {\n",
              "        vertical-align: middle;\n",
              "    }\n",
              "\n",
              "    .dataframe tbody tr th {\n",
              "        vertical-align: top;\n",
              "    }\n",
              "\n",
              "    .dataframe thead th {\n",
              "        text-align: right;\n",
              "    }\n",
              "</style>\n",
              "<table border=\"1\" class=\"dataframe\">\n",
              "  <thead>\n",
              "    <tr style=\"text-align: right;\">\n",
              "      <th></th>\n",
              "      <th>patientId</th>\n",
              "      <th>x</th>\n",
              "      <th>y</th>\n",
              "      <th>width</th>\n",
              "      <th>height</th>\n",
              "      <th>Target</th>\n",
              "    </tr>\n",
              "  </thead>\n",
              "  <tbody>\n",
              "    <tr>\n",
              "      <th>0</th>\n",
              "      <td>0004cfab-14fd-4e49-80ba-63a80b6bddd6</td>\n",
              "      <td>NaN</td>\n",
              "      <td>NaN</td>\n",
              "      <td>NaN</td>\n",
              "      <td>NaN</td>\n",
              "      <td>0</td>\n",
              "    </tr>\n",
              "  </tbody>\n",
              "</table>\n",
              "</div>"
            ],
            "text/plain": [
              "                              patientId   x   y  width  height  Target\n",
              "0  0004cfab-14fd-4e49-80ba-63a80b6bddd6 NaN NaN    NaN     NaN       0"
            ]
          },
          "metadata": {
            "tags": []
          },
          "execution_count": 19
        }
      ]
    },
    {
      "cell_type": "code",
      "metadata": {
        "id": "hWh5rHM1s2AZ",
        "colab_type": "code",
        "outputId": "3a8ea770-119d-45a9-e155-05bce9b57699",
        "colab": {
          "base_uri": "https://localhost:8080/",
          "height": 269
        }
      },
      "source": [
        "draw(parsed['0004cfab-14fd-4e49-80ba-63a80b6bddd6'])\n"
      ],
      "execution_count": 0,
      "outputs": [
        {
          "output_type": "display_data",
          "data": {
            "image/png": "[encoded data removed]",
            "text/plain": [
              "<Figure size 432x288 with 1 Axes>"
            ]
          },
          "metadata": {
            "tags": [],
            "needs_background": "light"
          }
        }
      ]
    },
    {
      "cell_type": "markdown",
      "metadata": {
        "id": "mqC6Vzm-2hsa",
        "colab_type": "text"
      },
      "source": [
        "## **Extracting Data and split it**"
      ]
    },
    {
      "cell_type": "code",
      "metadata": {
        "id": "RmybT4C-0bzJ",
        "colab_type": "code",
        "colab": {}
      },
      "source": [
        "import cv2\n",
        "x=[]\n",
        "y=[]\n",
        "for idx,pid in enumerate (parsed):\n",
        "  d=parsed[pid]\n",
        "  dd = pydicom.read_file(d['dicom'])\n",
        "  img= dd.pixel_array\n",
        "  label=d['label']\n",
        "  img=cv2.resize(img,(150,150))\n",
        "  x.append(img)\n",
        "  y.append(label)\n",
        "  #plt.imshow(img, cmap=plt.cm.gist_gray)\n",
        "  \n",
        " "
      ],
      "execution_count": 0,
      "outputs": []
    },
    {
      "cell_type": "code",
      "metadata": {
        "id": "Gj1Vzd2kiHG_",
        "colab_type": "code",
        "outputId": "2da0596a-edd6-455d-f67a-566ee8921d82",
        "colab": {
          "base_uri": "https://localhost:8080/",
          "height": 34
        }
      },
      "source": [
        "\n",
        "X=np.array(x)\n",
        "Y=np.array(y)\n",
        "X=X.reshape((26684,150,150,1))\n",
        "X=X.astype('float32') / 255\n",
        "X.shape"
      ],
      "execution_count": 0,
      "outputs": [
        {
          "output_type": "execute_result",
          "data": {
            "text/plain": [
              "(26684, 150, 150, 1)"
            ]
          },
          "metadata": {
            "tags": []
          },
          "execution_count": 14
        }
      ]
    },
    {
      "cell_type": "code",
      "metadata": {
        "id": "6fMH540vlEXW",
        "colab_type": "code",
        "colab": {}
      },
      "source": [
        "from sklearn.model_selection import train_test_split\n",
        "\n",
        "X_train, X_test, Y_train, Y_test= train_test_split(X, Y, test_size=0.2, random_state=1)\n",
        "\n",
        "x_train, x_val, y_train, y_val= train_test_split(X_train, Y_train, test_size=0.25, random_state=1) # 0.25 x 0.8 = 0.2"
      ],
      "execution_count": 0,
      "outputs": []
    },
    {
      "cell_type": "code",
      "metadata": {
        "id": "0LP-DivYMbgI",
        "colab_type": "code",
        "outputId": "f8980cfa-549b-4dc6-e037-d45cdc4c7d13",
        "colab": {
          "base_uri": "https://localhost:8080/",
          "height": 34
        }
      },
      "source": [
        "X.shape"
      ],
      "execution_count": 0,
      "outputs": [
        {
          "output_type": "execute_result",
          "data": {
            "text/plain": [
              "(26684, 150, 150, 1)"
            ]
          },
          "metadata": {
            "tags": []
          },
          "execution_count": 61
        }
      ]
    },
    {
      "cell_type": "markdown",
      "metadata": {
        "id": "STbAh9iniOw9",
        "colab_type": "text"
      },
      "source": [
        "# **Building network** "
      ]
    },
    {
      "cell_type": "markdown",
      "metadata": {
        "id": "sQ_lR3Dr1HcC",
        "colab_type": "text"
      },
      "source": [
        "# **Model1**"
      ]
    },
    {
      "cell_type": "markdown",
      "metadata": {
        "id": "NvK-WS5o22dl",
        "colab_type": "text"
      },
      "source": [
        "## Without regularization"
      ]
    },
    {
      "cell_type": "code",
      "metadata": {
        "id": "QVJ-ajbz287s",
        "colab_type": "code",
        "outputId": "0315e26f-1bb9-4bfc-aa15-bc351af4c58c",
        "colab": {
          "base_uri": "https://localhost:8080/",
          "height": 527
        }
      },
      "source": [
        "from keras import models,layers,regularizers\n",
        "model_Without_reg = models.Sequential()\n",
        "model_Without_reg.add(layers.Conv2D(32, (5, 5), activation='relu',\n",
        "                        input_shape=(150, 150, 1)))\n",
        "model_Without_reg.add(layers.MaxPooling2D((2, 2)))\n",
        "\n",
        "model_Without_reg.add(layers.Conv2D(64, (3, 3), activation='relu'))\n",
        "model_Without_reg.add(layers.MaxPooling2D((2, 2)))\n",
        "\n",
        "model_Without_reg.add(layers.Conv2D(128, (3, 3), activation='relu'))\n",
        "model_Without_reg.add(layers.MaxPooling2D((2, 2)))\n",
        "\n",
        "model_Without_reg.add(layers.Conv2D(256, (3, 3), activation='relu'))\n",
        "model_Without_reg.add(layers.MaxPooling2D((2, 2)))\n",
        "\n",
        "model_Without_reg.add(layers.Flatten())\n",
        "model_Without_reg.add(layers.Dense(512, activation='relu'))\n",
        "model_Without_reg.add(layers.Dense(1, activation='sigmoid'))\n",
        "\n",
        "model_Without_reg.summary()\n"
      ],
      "execution_count": 0,
      "outputs": [
        {
          "output_type": "stream",
          "text": [
            "Model: \"sequential_10\"\n",
            "_________________________________________________________________\n",
            "Layer (type)                 Output Shape              Param #   \n",
            "=================================================================\n",
            "conv2d_37 (Conv2D)           (None, 146, 146, 32)      832       \n",
            "_________________________________________________________________\n",
            "max_pooling2d_37 (MaxPooling (None, 73, 73, 32)        0         \n",
            "_________________________________________________________________\n",
            "conv2d_38 (Conv2D)           (None, 71, 71, 64)        18496     \n",
            "_________________________________________________________________\n",
            "max_pooling2d_38 (MaxPooling (None, 35, 35, 64)        0         \n",
            "_________________________________________________________________\n",
            "conv2d_39 (Conv2D)           (None, 33, 33, 128)       73856     \n",
            "_________________________________________________________________\n",
            "max_pooling2d_39 (MaxPooling (None, 16, 16, 128)       0         \n",
            "_________________________________________________________________\n",
            "conv2d_40 (Conv2D)           (None, 14, 14, 256)       295168    \n",
            "_________________________________________________________________\n",
            "max_pooling2d_40 (MaxPooling (None, 7, 7, 256)         0         \n",
            "_________________________________________________________________\n",
            "flatten_10 (Flatten)         (None, 12544)             0         \n",
            "_________________________________________________________________\n",
            "dense_19 (Dense)             (None, 512)               6423040   \n",
            "_________________________________________________________________\n",
            "dense_20 (Dense)             (None, 1)                 513       \n",
            "=================================================================\n",
            "Total params: 6,811,905\n",
            "Trainable params: 6,811,905\n",
            "Non-trainable params: 0\n",
            "_________________________________________________________________\n"
          ],
          "name": "stdout"
        }
      ]
    },
    {
      "cell_type": "markdown",
      "metadata": {
        "id": "o72wbKTv4QhO",
        "colab_type": "text"
      },
      "source": [
        "### Optimizer"
      ]
    },
    {
      "cell_type": "code",
      "metadata": {
        "id": "QNDBVYnz29DC",
        "colab_type": "code",
        "colab": {}
      },
      "source": [
        "from keras import optimizers\n",
        "\n",
        "opt=optimizers.Adam(learning_rate=0.001, beta_1=0.9, beta_2=0.999, amsgrad=False)\n",
        "\n",
        "model_Without_reg.compile(loss='binary_crossentropy',\n",
        "              optimizer=opt,\n",
        "              metrics=['acc'])"
      ],
      "execution_count": 0,
      "outputs": []
    },
    {
      "cell_type": "code",
      "metadata": {
        "id": "QrX0MtCW3jDv",
        "colab_type": "code",
        "outputId": "0fe215a3-9406-409d-a192-b81a46b95f1c",
        "colab": {
          "base_uri": "https://localhost:8080/",
          "height": 904
        }
      },
      "source": [
        "training_history1=model_Without_reg.fit(x_train, y_train,validation_data=(x_val, y_val), epochs=25, batch_size=32)"
      ],
      "execution_count": 0,
      "outputs": [
        {
          "output_type": "stream",
          "text": [
            "Train on 16010 samples, validate on 5337 samples\n",
            "Epoch 1/25\n",
            "16010/16010 [==============================] - 31s 2ms/step - loss: 0.0525 - acc: 0.9810 - val_loss: 1.8072 - val_acc: 0.7802\n",
            "Epoch 2/25\n",
            "16010/16010 [==============================] - 31s 2ms/step - loss: 0.0559 - acc: 0.9805 - val_loss: 2.0174 - val_acc: 0.7847\n",
            "Epoch 3/25\n",
            "16010/16010 [==============================] - 31s 2ms/step - loss: 0.0689 - acc: 0.9791 - val_loss: 1.4813 - val_acc: 0.7667\n",
            "Epoch 4/25\n",
            "16010/16010 [==============================] - 31s 2ms/step - loss: 0.0462 - acc: 0.9859 - val_loss: 2.1148 - val_acc: 0.7930\n",
            "Epoch 5/25\n",
            "16010/16010 [==============================] - 31s 2ms/step - loss: 0.0620 - acc: 0.9811 - val_loss: 1.8690 - val_acc: 0.7789\n",
            "Epoch 6/25\n",
            "16010/16010 [==============================] - 31s 2ms/step - loss: 0.0235 - acc: 0.9932 - val_loss: 2.0501 - val_acc: 0.7782\n",
            "Epoch 7/25\n",
            "16010/16010 [==============================] - 31s 2ms/step - loss: 0.0415 - acc: 0.9870 - val_loss: 1.9691 - val_acc: 0.7843\n",
            "Epoch 8/25\n",
            "16010/16010 [==============================] - 31s 2ms/step - loss: 0.0442 - acc: 0.9849 - val_loss: 1.9663 - val_acc: 0.7885\n",
            "Epoch 9/25\n",
            "16010/16010 [==============================] - 31s 2ms/step - loss: 0.0253 - acc: 0.9931 - val_loss: 2.1666 - val_acc: 0.7592\n",
            "Epoch 10/25\n",
            "16010/16010 [==============================] - 31s 2ms/step - loss: 0.0301 - acc: 0.9909 - val_loss: 2.3262 - val_acc: 0.7767\n",
            "Epoch 11/25\n",
            "16010/16010 [==============================] - 31s 2ms/step - loss: 0.0126 - acc: 0.9966 - val_loss: 2.3325 - val_acc: 0.7755\n",
            "Epoch 12/25\n",
            "16010/16010 [==============================] - 31s 2ms/step - loss: 0.0076 - acc: 0.9984 - val_loss: 2.6207 - val_acc: 0.7802\n",
            "Epoch 13/25\n",
            "16010/16010 [==============================] - 31s 2ms/step - loss: 0.0183 - acc: 0.9945 - val_loss: 3.1407 - val_acc: 0.7815\n",
            "Epoch 14/25\n",
            "16010/16010 [==============================] - 31s 2ms/step - loss: 0.0539 - acc: 0.9834 - val_loss: 2.3735 - val_acc: 0.7866\n",
            "Epoch 15/25\n",
            "16010/16010 [==============================] - 31s 2ms/step - loss: 0.0257 - acc: 0.9913 - val_loss: 2.6135 - val_acc: 0.7746\n",
            "Epoch 16/25\n",
            "16010/16010 [==============================] - 31s 2ms/step - loss: 0.0249 - acc: 0.9926 - val_loss: 2.6423 - val_acc: 0.7673\n",
            "Epoch 17/25\n",
            "16010/16010 [==============================] - 31s 2ms/step - loss: 0.0200 - acc: 0.9938 - val_loss: 2.5048 - val_acc: 0.7782\n",
            "Epoch 18/25\n",
            "16010/16010 [==============================] - 31s 2ms/step - loss: 0.0492 - acc: 0.9862 - val_loss: 2.3273 - val_acc: 0.7823\n",
            "Epoch 19/25\n",
            "16010/16010 [==============================] - 31s 2ms/step - loss: 0.0314 - acc: 0.9926 - val_loss: 2.2094 - val_acc: 0.7729\n",
            "Epoch 20/25\n",
            "16010/16010 [==============================] - 31s 2ms/step - loss: 0.0130 - acc: 0.9960 - val_loss: 2.5615 - val_acc: 0.7782\n",
            "Epoch 21/25\n",
            "16010/16010 [==============================] - 31s 2ms/step - loss: 0.0156 - acc: 0.9961 - val_loss: 2.4313 - val_acc: 0.7589\n",
            "Epoch 22/25\n",
            "16010/16010 [==============================] - 31s 2ms/step - loss: 0.0162 - acc: 0.9952 - val_loss: 2.4432 - val_acc: 0.7667\n",
            "Epoch 23/25\n",
            "16010/16010 [==============================] - 31s 2ms/step - loss: 0.0214 - acc: 0.9931 - val_loss: 2.1775 - val_acc: 0.7628\n",
            "Epoch 24/25\n",
            "16010/16010 [==============================] - 31s 2ms/step - loss: 0.0026 - acc: 0.9996 - val_loss: 2.4938 - val_acc: 0.7819\n",
            "Epoch 25/25\n",
            "16010/16010 [==============================] - 31s 2ms/step - loss: 5.7602e-04 - acc: 1.0000 - val_loss: 2.7289 - val_acc: 0.7864\n"
          ],
          "name": "stdout"
        }
      ]
    },
    {
      "cell_type": "code",
      "metadata": {
        "id": "PhnbFwQ_3sYa",
        "colab_type": "code",
        "outputId": "818ae55d-f351-459f-9620-10863865bb97",
        "colab": {
          "base_uri": "https://localhost:8080/",
          "height": 312
        }
      },
      "source": [
        "import matplotlib.pyplot as plt\n",
        "plt.plot(training_history1.history['acc'],label='Training Accuracy')\n",
        "plt.plot(training_history1.history['val_acc'],label='Validation Accuracy')\n",
        "plt.title('model accuracy(without regularization )')\n",
        "plt.ylabel('accuracy')\n",
        "plt.xlabel('epoch')\n",
        "plt.legend()\n"
      ],
      "execution_count": 0,
      "outputs": [
        {
          "output_type": "execute_result",
          "data": {
            "text/plain": [
              "<matplotlib.legend.Legend at 0x7f6ebe6da5f8>"
            ]
          },
          "metadata": {
            "tags": []
          },
          "execution_count": 108
        },
        {
          "output_type": "display_data",
          "data": {
            "image/png": "[encoded data removed]",
            "text/plain": [
              "<Figure size 432x288 with 1 Axes>"
            ]
          },
          "metadata": {
            "tags": [],
            "needs_background": "light"
          }
        }
      ]
    },
    {
      "cell_type": "code",
      "metadata": {
        "id": "QVxlGBaL37a8",
        "colab_type": "code",
        "outputId": "b4782019-09b6-4db8-d3de-c2ff127f1b5f",
        "colab": {
          "base_uri": "https://localhost:8080/",
          "height": 312
        }
      },
      "source": [
        "plt.plot(training_history1.history['loss'],label='Training Loss')\n",
        "plt.plot(training_history1.history['val_loss'],label='Validation Accuracy')\n",
        "plt.title('model loss(without regularization )')\n",
        "plt.ylabel('loss')\n",
        "plt.xlabel('epoch')\n",
        "plt.legend()\n"
      ],
      "execution_count": 0,
      "outputs": [
        {
          "output_type": "execute_result",
          "data": {
            "text/plain": [
              "<matplotlib.legend.Legend at 0x7f7190350e48>"
            ]
          },
          "metadata": {
            "tags": []
          },
          "execution_count": 109
        },
        {
          "output_type": "display_data",
          "data": {
            "image/png": "[encoded data removed]",
            "text/plain": [
              "<Figure size 432x288 with 1 Axes>"
            ]
          },
          "metadata": {
            "tags": [],
            "needs_background": "light"
          }
        }
      ]
    },
    {
      "cell_type": "markdown",
      "metadata": {
        "id": "DKMMEpqr1VMA",
        "colab_type": "text"
      },
      "source": [
        "# **Model2**"
      ]
    },
    {
      "cell_type": "markdown",
      "metadata": {
        "id": "JLEMMe9K2eDE",
        "colab_type": "text"
      },
      "source": [
        "## With regularization (L2 & Dropout)"
      ]
    },
    {
      "cell_type": "code",
      "metadata": {
        "id": "TR6cI7_iAHEK",
        "colab_type": "code",
        "colab": {}
      },
      "source": [
        "from keras import models,layers,regularizers\n",
        "model2 = models.Sequential()\n",
        "model2.add(layers.Conv2D(32, (5, 5), activation='relu',\n",
        "                        input_shape=(150, 150, 1)))\n",
        "model2.add(layers.MaxPooling2D((2, 2)))\n",
        "model2.add(layers.Dropout(0.5))\n",
        "model2.add(layers.Conv2D(64, (3, 3), activation='relu'))\n",
        "model2.add(layers.MaxPooling2D((2, 2)))\n",
        "model2.add(layers.Dropout(0.5))\n",
        "model2.add(layers.Conv2D(128, (3, 3), activation='relu'))\n",
        "model2.add(layers.MaxPooling2D((2, 2)))\n",
        "model2.add(layers.Conv2D(256, (3, 3), activation='relu'))\n",
        "model2.add(layers.MaxPooling2D((2, 2)))\n",
        "model2.add(layers.Flatten())\n",
        "model2.add(layers.Dense(512,kernel_regularizer=regularizers.l2(0.001), activation='relu'))\n",
        "model2.add(layers.Dense(1, activation='sigmoid'))\n"
      ],
      "execution_count": 0,
      "outputs": []
    },
    {
      "cell_type": "code",
      "metadata": {
        "id": "b92vrdqUjl8Y",
        "colab_type": "code",
        "outputId": "0903353a-847d-4b33-a3f6-439e0fb7d6d5",
        "colab": {
          "base_uri": "https://localhost:8080/",
          "height": 595
        }
      },
      "source": [
        "model.summary()"
      ],
      "execution_count": 0,
      "outputs": [
        {
          "output_type": "stream",
          "text": [
            "Model: \"sequential_9\"\n",
            "_________________________________________________________________\n",
            "Layer (type)                 Output Shape              Param #   \n",
            "=================================================================\n",
            "conv2d_33 (Conv2D)           (None, 146, 146, 32)      832       \n",
            "_________________________________________________________________\n",
            "max_pooling2d_33 (MaxPooling (None, 73, 73, 32)        0         \n",
            "_________________________________________________________________\n",
            "dropout_3 (Dropout)          (None, 73, 73, 32)        0         \n",
            "_________________________________________________________________\n",
            "conv2d_34 (Conv2D)           (None, 71, 71, 64)        18496     \n",
            "_________________________________________________________________\n",
            "max_pooling2d_34 (MaxPooling (None, 35, 35, 64)        0         \n",
            "_________________________________________________________________\n",
            "dropout_4 (Dropout)          (None, 35, 35, 64)        0         \n",
            "_________________________________________________________________\n",
            "conv2d_35 (Conv2D)           (None, 33, 33, 128)       73856     \n",
            "_________________________________________________________________\n",
            "max_pooling2d_35 (MaxPooling (None, 16, 16, 128)       0         \n",
            "_________________________________________________________________\n",
            "conv2d_36 (Conv2D)           (None, 14, 14, 256)       295168    \n",
            "_________________________________________________________________\n",
            "max_pooling2d_36 (MaxPooling (None, 7, 7, 256)         0         \n",
            "_________________________________________________________________\n",
            "flatten_9 (Flatten)          (None, 12544)             0         \n",
            "_________________________________________________________________\n",
            "dense_17 (Dense)             (None, 512)               6423040   \n",
            "_________________________________________________________________\n",
            "dense_18 (Dense)             (None, 1)                 513       \n",
            "=================================================================\n",
            "Total params: 6,811,905\n",
            "Trainable params: 6,811,905\n",
            "Non-trainable params: 0\n",
            "_________________________________________________________________\n"
          ],
          "name": "stdout"
        }
      ]
    },
    {
      "cell_type": "markdown",
      "metadata": {
        "id": "CQfOWmPIjr1p",
        "colab_type": "text"
      },
      "source": [
        "## Optimizer"
      ]
    },
    {
      "cell_type": "code",
      "metadata": {
        "id": "-v_794R5juiJ",
        "colab_type": "code",
        "colab": {}
      },
      "source": [
        "from keras import optimizers\n",
        "\n",
        "opt=optimizers.Adam(learning_rate=0.001, beta_1=0.9, beta_2=0.999, amsgrad=False)\n",
        "\n",
        "model2.compile(loss='binary_crossentropy',\n",
        "              optimizer=opt,\n",
        "              metrics=['acc'])"
      ],
      "execution_count": 0,
      "outputs": []
    },
    {
      "cell_type": "code",
      "metadata": {
        "id": "bTpqC04PmvEh",
        "colab_type": "code",
        "outputId": "1cd4795e-f3df-4457-96f9-47f2e04eb93f",
        "colab": {
          "base_uri": "https://localhost:8080/",
          "height": 884
        }
      },
      "source": [
        "training_history=model2.fit(x_train, y_train,validation_data=(x_val, y_val), epochs=25, batch_size=32)"
      ],
      "execution_count": 0,
      "outputs": [
        {
          "output_type": "stream",
          "text": [
            "Train on 16010 samples, validate on 5337 samples\n",
            "Epoch 1/25\n",
            "16010/16010 [==============================] - 36s 2ms/step - loss: 0.5691 - acc: 0.7843 - val_loss: 0.4762 - val_acc: 0.7875\n",
            "Epoch 2/25\n",
            "16010/16010 [==============================] - 36s 2ms/step - loss: 0.4457 - acc: 0.7964 - val_loss: 0.4597 - val_acc: 0.7971\n",
            "Epoch 3/25\n",
            "16010/16010 [==============================] - 36s 2ms/step - loss: 0.4404 - acc: 0.8027 - val_loss: 0.4698 - val_acc: 0.8023\n",
            "Epoch 4/25\n",
            "16010/16010 [==============================] - 36s 2ms/step - loss: 0.4380 - acc: 0.8031 - val_loss: 0.4617 - val_acc: 0.8029\n",
            "Epoch 5/25\n",
            "16010/16010 [==============================] - 35s 2ms/step - loss: 0.4364 - acc: 0.8041 - val_loss: 0.4715 - val_acc: 0.7988\n",
            "Epoch 6/25\n",
            "16010/16010 [==============================] - 35s 2ms/step - loss: 0.4358 - acc: 0.8048 - val_loss: 0.4755 - val_acc: 0.7967\n",
            "Epoch 7/25\n",
            "16010/16010 [==============================] - 35s 2ms/step - loss: 0.4316 - acc: 0.8056 - val_loss: 0.4564 - val_acc: 0.8014\n",
            "Epoch 8/25\n",
            "16010/16010 [==============================] - 35s 2ms/step - loss: 0.4292 - acc: 0.8080 - val_loss: 0.4482 - val_acc: 0.8008\n",
            "Epoch 9/25\n",
            "16010/16010 [==============================] - 36s 2ms/step - loss: 0.4275 - acc: 0.8032 - val_loss: 0.4541 - val_acc: 0.7978\n",
            "Epoch 10/25\n",
            "16010/16010 [==============================] - 35s 2ms/step - loss: 0.4255 - acc: 0.8055 - val_loss: 0.4520 - val_acc: 0.8042\n",
            "Epoch 11/25\n",
            "16010/16010 [==============================] - 35s 2ms/step - loss: 0.4245 - acc: 0.8058 - val_loss: 0.4397 - val_acc: 0.7995\n",
            "Epoch 12/25\n",
            "16010/16010 [==============================] - 35s 2ms/step - loss: 0.4232 - acc: 0.8071 - val_loss: 0.4410 - val_acc: 0.7978\n",
            "Epoch 13/25\n",
            "16010/16010 [==============================] - 35s 2ms/step - loss: 0.4227 - acc: 0.8081 - val_loss: 0.4578 - val_acc: 0.7982\n",
            "Epoch 14/25\n",
            "16010/16010 [==============================] - 35s 2ms/step - loss: 0.4201 - acc: 0.8076 - val_loss: 0.4683 - val_acc: 0.7915\n",
            "Epoch 15/25\n",
            "16010/16010 [==============================] - 36s 2ms/step - loss: 0.4182 - acc: 0.8121 - val_loss: 0.4737 - val_acc: 0.7950\n",
            "Epoch 16/25\n",
            "16010/16010 [==============================] - 35s 2ms/step - loss: 0.4167 - acc: 0.8129 - val_loss: 0.4657 - val_acc: 0.7931\n",
            "Epoch 17/25\n",
            "16010/16010 [==============================] - 36s 2ms/step - loss: 0.4171 - acc: 0.8126 - val_loss: 0.4510 - val_acc: 0.7952\n",
            "Epoch 18/25\n",
            "16010/16010 [==============================] - 35s 2ms/step - loss: 0.4147 - acc: 0.8142 - val_loss: 0.4786 - val_acc: 0.7832\n",
            "Epoch 19/25\n",
            "16010/16010 [==============================] - 35s 2ms/step - loss: 0.4138 - acc: 0.8136 - val_loss: 0.4576 - val_acc: 0.7928\n",
            "Epoch 20/25\n",
            "16010/16010 [==============================] - 35s 2ms/step - loss: 0.4129 - acc: 0.8152 - val_loss: 0.4749 - val_acc: 0.7935\n",
            "Epoch 21/25\n",
            "16010/16010 [==============================] - 35s 2ms/step - loss: 0.4112 - acc: 0.8125 - val_loss: 0.4609 - val_acc: 0.7911\n",
            "Epoch 22/25\n",
            "16010/16010 [==============================] - 35s 2ms/step - loss: 0.4100 - acc: 0.8152 - val_loss: 0.4630 - val_acc: 0.7937\n",
            "Epoch 23/25\n",
            "16010/16010 [==============================] - 35s 2ms/step - loss: 0.4101 - acc: 0.8167 - val_loss: 0.4905 - val_acc: 0.7802\n",
            "Epoch 24/25\n",
            "16010/16010 [==============================] - 35s 2ms/step - loss: 0.4061 - acc: 0.8167 - val_loss: 0.4725 - val_acc: 0.7903\n",
            "Epoch 25/25\n",
            "16010/16010 [==============================] - 35s 2ms/step - loss: 0.4063 - acc: 0.8175 - val_loss: 0.4956 - val_acc: 0.7662\n"
          ],
          "name": "stdout"
        }
      ]
    },
    {
      "cell_type": "code",
      "metadata": {
        "id": "RIyP9Y5WqY9c",
        "colab_type": "code",
        "outputId": "495bb962-89bc-4531-947b-9fc5188f4df2",
        "colab": {
          "base_uri": "https://localhost:8080/",
          "height": 312
        }
      },
      "source": [
        "import matplotlib.pyplot as plt\n",
        "plt.plot(training_history.history['acc'],label='Training Accuracy')\n",
        "plt.plot(training_history.history['val_acc'],label='Validation Accuracy')\n",
        "plt.title('model accuracy(with regularization)')\n",
        "plt.ylabel('accuracy')\n",
        "plt.xlabel('epoch')\n",
        "plt.legend()\n"
      ],
      "execution_count": 0,
      "outputs": [
        {
          "output_type": "execute_result",
          "data": {
            "text/plain": [
              "<matplotlib.legend.Legend at 0x7f6e615fd6d8>"
            ]
          },
          "metadata": {
            "tags": []
          },
          "execution_count": 124
        },
        {
          "output_type": "display_data",
          "data": {
            "image/png": "[encoded data removed]",
            "text/plain": [
              "<Figure size 432x288 with 1 Axes>"
            ]
          },
          "metadata": {
            "tags": [],
            "needs_background": "light"
          }
        }
      ]
    },
    {
      "cell_type": "code",
      "metadata": {
        "id": "AeFgxmasq9K_",
        "colab_type": "code",
        "outputId": "b1fd8685-cefe-4fee-b9bd-6d58d156f053",
        "colab": {
          "base_uri": "https://localhost:8080/",
          "height": 312
        }
      },
      "source": [
        "plt.plot(training_history2.history['loss'],label='Training Loss')\n",
        "plt.plot(training_history2.history['val_loss'],label='Validation Accuracy')\n",
        "plt.title('model loss(with regularization)')\n",
        "plt.ylabel('loss')\n",
        "plt.xlabel('epoch')\n",
        "plt.legend()\n"
      ],
      "execution_count": 0,
      "outputs": [
        {
          "output_type": "execute_result",
          "data": {
            "text/plain": [
              "<matplotlib.legend.Legend at 0x7f71a78c04a8>"
            ]
          },
          "metadata": {
            "tags": []
          },
          "execution_count": 111
        },
        {
          "output_type": "display_data",
          "data": {
            "image/png": "[encoded data removed]",
            "text/plain": [
              "<Figure size 432x288 with 1 Axes>"
            ]
          },
          "metadata": {
            "tags": [],
            "needs_background": "light"
          }
        }
      ]
    },
    {
      "cell_type": "markdown",
      "metadata": {
        "id": "4cCVCKic1dcF",
        "colab_type": "text"
      },
      "source": [
        "# **Model3**"
      ]
    },
    {
      "cell_type": "markdown",
      "metadata": {
        "id": "iOQzpDB70KH9",
        "colab_type": "text"
      },
      "source": [
        "## **Apply K-fold Cross Validation**"
      ]
    },
    {
      "cell_type": "code",
      "metadata": {
        "id": "WewSBLiQNLW1",
        "colab_type": "code",
        "colab": {}
      },
      "source": [
        "model3 = models.Sequential()\n",
        "model3.add(layers.Conv2D(32, (5, 5), activation='relu',\n",
        "                        input_shape=(150, 150, 1)))\n",
        "model3.add(layers.MaxPooling2D((2, 2)))\n",
        "model3.add(layers.Dropout(0.5))\n",
        "model3.add(layers.Conv2D(64, (3, 3), activation='relu'))\n",
        "model3.add(layers.MaxPooling2D((2, 2)))\n",
        "model3.add(layers.Dropout(0.5))\n",
        "model3.add(layers.Conv2D(128, (3, 3), activation='relu'))\n",
        "model3.add(layers.MaxPooling2D((2, 2)))\n",
        "model3.add(layers.Conv2D(256, (3, 3), activation='relu'))\n",
        "model3.add(layers.MaxPooling2D((2, 2)))\n",
        "model3.add(layers.Flatten())\n",
        "model3.add(layers.Dense(512,kernel_regularizer=regularizers.l2(0.001), activation='relu'))\n",
        "model3.add(layers.Dense(1, activation='sigmoid'))\n",
        "\n",
        "opt=optimizers.Adam(learning_rate=0.001, beta_1=0.9, beta_2=0.999, amsgrad=False)\n",
        "\n",
        "model3.compile(loss='binary_crossentropy',\n",
        "              optimizer=opt,\n",
        "              metrics=['acc'])"
      ],
      "execution_count": 0,
      "outputs": []
    },
    {
      "cell_type": "code",
      "metadata": {
        "id": "rGU1788mFDow",
        "colab_type": "code",
        "outputId": "e61f6f39-8492-4baf-e0e1-88e6c0e7c774",
        "colab": {
          "base_uri": "https://localhost:8080/",
          "height": 1000
        }
      },
      "source": [
        "from sklearn.model_selection import KFold\n",
        "\n",
        "# Model configuration\n",
        "batch_size = 32\n",
        "no_epochs = 20\n",
        "validation_split = 0.2\n",
        "num_folds = 5\n",
        "\n",
        "# Define per-fold score containers\n",
        "acc_per_fold = []\n",
        "loss_per_fold = []\n",
        "\n",
        "# Merge inputs and targets\n",
        "inputs = X_train\n",
        "targets = Y_train\n",
        "\n",
        "# Define the K-fold Cross Validator\n",
        "kfold = KFold(n_splits=num_folds, shuffle=True)\n",
        "\n",
        "# K-fold Cross Validation model evaluation\n",
        "fold_no = 1\n",
        "for train, test in kfold.split(inputs, targets):\n",
        "\n",
        "\n",
        "  # Generate a print\n",
        "  print('------------------------------------------------------------------------')\n",
        "  print(f'Training for fold {fold_no} ...')\n",
        "\n",
        "  # Fit data to model\n",
        "  history3 = model3.fit(inputs[train], targets[train],\n",
        "              batch_size=batch_size,\n",
        "              epochs=no_epochs,validation_split=validation_split)\n",
        "\n",
        "  # Generate generalization metrics\n",
        "  scores = model3.evaluate(inputs[test], targets[test], verbose=0)\n",
        "  print(f'Score for fold {fold_no}: {model3.metrics_names[0]} of {scores[0]}; {model3.metrics_names[1]} of {scores[1]*100}%')\n",
        "  acc_per_fold.append(scores[1] * 100)\n",
        "  loss_per_fold.append(scores[0])\n",
        "\n",
        "  # Increase fold number\n",
        "  fold_no = fold_no + 1\n",
        "\n",
        "# == Provide average scores ==\n",
        "print('------------------------------------------------------------------------')\n",
        "print('Score per fold')\n",
        "for i in range(0, len(acc_per_fold)):\n",
        "  print('------------------------------------------------------------------------')\n",
        "  print(f'> Fold {i+1} - Loss: {loss_per_fold[i]} - Accuracy: {acc_per_fold[i]}%')\n",
        "print('------------------------------------------------------------------------')\n",
        "print('Average scores for all folds:')\n",
        "print(f'> Accuracy: {np.mean(acc_per_fold)} (+- {np.std(acc_per_fold)})')\n",
        "print(f'> Loss: {np.mean(loss_per_fold)}')\n"
      ],
      "execution_count": 0,
      "outputs": [
        {
          "output_type": "stream",
          "text": [
            "------------------------------------------------------------------------\n",
            "Training for fold 1 ...\n",
            "Train on 13661 samples, validate on 3416 samples\n",
            "Epoch 1/20\n",
            "13661/13661 [==============================] - 31s 2ms/step - loss: 0.5827 - acc: 0.7775 - val_loss: 0.5843 - val_acc: 0.7617\n",
            "Epoch 2/20\n",
            "13661/13661 [==============================] - 30s 2ms/step - loss: 0.4479 - acc: 0.7924 - val_loss: 0.4798 - val_acc: 0.7787\n",
            "Epoch 3/20\n",
            "13661/13661 [==============================] - 30s 2ms/step - loss: 0.4417 - acc: 0.7983 - val_loss: 0.4688 - val_acc: 0.7904\n",
            "Epoch 4/20\n",
            "13661/13661 [==============================] - 30s 2ms/step - loss: 0.4395 - acc: 0.8016 - val_loss: 0.4880 - val_acc: 0.7951\n",
            "Epoch 5/20\n",
            "13661/13661 [==============================] - 29s 2ms/step - loss: 0.4366 - acc: 0.8038 - val_loss: 0.4725 - val_acc: 0.7907\n",
            "Epoch 6/20\n",
            "13661/13661 [==============================] - 29s 2ms/step - loss: 0.4285 - acc: 0.8079 - val_loss: 0.4600 - val_acc: 0.7889\n",
            "Epoch 7/20\n",
            "13661/13661 [==============================] - 29s 2ms/step - loss: 0.4295 - acc: 0.8074 - val_loss: 0.4727 - val_acc: 0.7942\n",
            "Epoch 8/20\n",
            "13661/13661 [==============================] - 29s 2ms/step - loss: 0.4262 - acc: 0.8066 - val_loss: 0.4988 - val_acc: 0.7904\n",
            "Epoch 9/20\n",
            "13661/13661 [==============================] - 30s 2ms/step - loss: 0.4222 - acc: 0.8098 - val_loss: 0.4689 - val_acc: 0.7971\n",
            "Epoch 10/20\n",
            "13661/13661 [==============================] - 29s 2ms/step - loss: 0.4233 - acc: 0.8069 - val_loss: 0.4873 - val_acc: 0.7878\n",
            "Epoch 11/20\n",
            "13661/13661 [==============================] - 29s 2ms/step - loss: 0.4213 - acc: 0.8098 - val_loss: 0.4651 - val_acc: 0.7919\n",
            "Epoch 12/20\n",
            "13661/13661 [==============================] - 29s 2ms/step - loss: 0.4170 - acc: 0.8114 - val_loss: 0.4807 - val_acc: 0.7840\n",
            "Epoch 13/20\n",
            "13661/13661 [==============================] - 29s 2ms/step - loss: 0.4180 - acc: 0.8111 - val_loss: 0.4809 - val_acc: 0.7881\n",
            "Epoch 14/20\n",
            "13661/13661 [==============================] - 29s 2ms/step - loss: 0.4172 - acc: 0.8120 - val_loss: 0.4763 - val_acc: 0.7843\n",
            "Epoch 15/20\n",
            "13661/13661 [==============================] - 29s 2ms/step - loss: 0.4136 - acc: 0.8111 - val_loss: 0.4876 - val_acc: 0.7904\n",
            "Epoch 16/20\n",
            "13661/13661 [==============================] - 29s 2ms/step - loss: 0.4129 - acc: 0.8146 - val_loss: 0.4793 - val_acc: 0.7930\n",
            "Epoch 17/20\n",
            "13661/13661 [==============================] - 29s 2ms/step - loss: 0.4131 - acc: 0.8170 - val_loss: 0.4655 - val_acc: 0.7971\n",
            "Epoch 18/20\n",
            "13661/13661 [==============================] - 29s 2ms/step - loss: 0.4104 - acc: 0.8133 - val_loss: 0.4695 - val_acc: 0.7822\n",
            "Epoch 19/20\n",
            "13661/13661 [==============================] - 30s 2ms/step - loss: 0.4102 - acc: 0.8163 - val_loss: 0.4737 - val_acc: 0.7895\n",
            "Epoch 20/20\n",
            "13661/13661 [==============================] - 30s 2ms/step - loss: 0.4068 - acc: 0.8169 - val_loss: 0.4654 - val_acc: 0.7875\n",
            "Score for fold 1: loss of 0.44094101546519815; acc of 80.51522374153137%\n",
            "------------------------------------------------------------------------\n",
            "Training for fold 2 ...\n",
            "Train on 13661 samples, validate on 3416 samples\n",
            "Epoch 1/20\n",
            "13661/13661 [==============================] - 30s 2ms/step - loss: 0.4122 - acc: 0.8128 - val_loss: 0.4693 - val_acc: 0.7910\n",
            "Epoch 2/20\n",
            "13661/13661 [==============================] - 29s 2ms/step - loss: 0.4090 - acc: 0.8176 - val_loss: 0.5017 - val_acc: 0.7769\n",
            "Epoch 3/20\n",
            "13661/13661 [==============================] - 30s 2ms/step - loss: 0.4078 - acc: 0.8159 - val_loss: 0.4636 - val_acc: 0.7866\n",
            "Epoch 4/20\n",
            "13661/13661 [==============================] - 30s 2ms/step - loss: 0.4051 - acc: 0.8200 - val_loss: 0.4860 - val_acc: 0.7793\n",
            "Epoch 5/20\n",
            "13661/13661 [==============================] - 30s 2ms/step - loss: 0.4018 - acc: 0.8200 - val_loss: 0.4760 - val_acc: 0.7810\n",
            "Epoch 6/20\n",
            "13661/13661 [==============================] - 30s 2ms/step - loss: 0.4013 - acc: 0.8213 - val_loss: 0.4717 - val_acc: 0.7869\n",
            "Epoch 7/20\n",
            "13661/13661 [==============================] - 30s 2ms/step - loss: 0.3989 - acc: 0.8221 - val_loss: 0.4828 - val_acc: 0.7851\n",
            "Epoch 8/20\n",
            "13661/13661 [==============================] - 30s 2ms/step - loss: 0.3998 - acc: 0.8254 - val_loss: 0.4729 - val_acc: 0.7889\n",
            "Epoch 9/20\n",
            "13661/13661 [==============================] - 30s 2ms/step - loss: 0.3971 - acc: 0.8234 - val_loss: 0.4863 - val_acc: 0.7802\n",
            "Epoch 10/20\n",
            "13661/13661 [==============================] - 30s 2ms/step - loss: 0.3937 - acc: 0.8229 - val_loss: 0.4931 - val_acc: 0.7743\n",
            "Epoch 11/20\n",
            "13661/13661 [==============================] - 30s 2ms/step - loss: 0.3923 - acc: 0.8282 - val_loss: 0.5077 - val_acc: 0.7635\n",
            "Epoch 12/20\n",
            "13661/13661 [==============================] - 30s 2ms/step - loss: 0.3891 - acc: 0.8294 - val_loss: 0.5045 - val_acc: 0.7743\n",
            "Epoch 13/20\n",
            "13661/13661 [==============================] - 29s 2ms/step - loss: 0.3914 - acc: 0.8302 - val_loss: 0.4953 - val_acc: 0.7746\n",
            "Epoch 14/20\n",
            "13661/13661 [==============================] - 30s 2ms/step - loss: 0.3879 - acc: 0.8289 - val_loss: 0.4905 - val_acc: 0.7743\n",
            "Epoch 15/20\n",
            "13661/13661 [==============================] - 30s 2ms/step - loss: 0.3874 - acc: 0.8301 - val_loss: 0.4708 - val_acc: 0.7895\n",
            "Epoch 16/20\n",
            "13661/13661 [==============================] - 30s 2ms/step - loss: 0.3831 - acc: 0.8322 - val_loss: 0.5149 - val_acc: 0.7597\n",
            "Epoch 17/20\n",
            "13661/13661 [==============================] - 30s 2ms/step - loss: 0.3797 - acc: 0.8360 - val_loss: 0.5675 - val_acc: 0.7362\n",
            "Epoch 18/20\n",
            "13661/13661 [==============================] - 30s 2ms/step - loss: 0.3777 - acc: 0.8358 - val_loss: 0.5211 - val_acc: 0.7661\n",
            "Epoch 19/20\n",
            "13661/13661 [==============================] - 29s 2ms/step - loss: 0.3796 - acc: 0.8368 - val_loss: 0.5406 - val_acc: 0.7462\n",
            "Epoch 20/20\n",
            "13661/13661 [==============================] - 29s 2ms/step - loss: 0.3774 - acc: 0.8387 - val_loss: 0.5290 - val_acc: 0.7623\n",
            "Score for fold 2: loss of 0.5233281651760432; acc of 76.62763595581055%\n",
            "------------------------------------------------------------------------\n",
            "Training for fold 3 ...\n",
            "Train on 13662 samples, validate on 3416 samples\n",
            "Epoch 1/20\n",
            "13662/13662 [==============================] - 30s 2ms/step - loss: 0.3874 - acc: 0.8305 - val_loss: 0.4815 - val_acc: 0.7892\n",
            "Epoch 2/20\n",
            "13662/13662 [==============================] - 29s 2ms/step - loss: 0.3789 - acc: 0.8345 - val_loss: 0.4938 - val_acc: 0.7822\n",
            "Epoch 3/20\n",
            "13662/13662 [==============================] - 29s 2ms/step - loss: 0.3767 - acc: 0.8354 - val_loss: 0.4866 - val_acc: 0.7799\n",
            "Epoch 4/20\n",
            "13662/13662 [==============================] - 29s 2ms/step - loss: 0.3720 - acc: 0.8399 - val_loss: 0.5094 - val_acc: 0.7720\n",
            "Epoch 5/20\n",
            "13662/13662 [==============================] - 30s 2ms/step - loss: 0.3718 - acc: 0.8409 - val_loss: 0.5047 - val_acc: 0.7734\n",
            "Epoch 6/20\n",
            "13662/13662 [==============================] - 29s 2ms/step - loss: 0.3688 - acc: 0.8426 - val_loss: 0.4907 - val_acc: 0.7837\n",
            "Epoch 7/20\n",
            "13662/13662 [==============================] - 29s 2ms/step - loss: 0.3656 - acc: 0.8454 - val_loss: 0.4918 - val_acc: 0.7854\n",
            "Epoch 8/20\n",
            "13662/13662 [==============================] - 29s 2ms/step - loss: 0.3646 - acc: 0.8424 - val_loss: 0.4915 - val_acc: 0.7930\n",
            "Epoch 9/20\n",
            "13662/13662 [==============================] - 29s 2ms/step - loss: 0.3586 - acc: 0.8510 - val_loss: 0.5293 - val_acc: 0.7664\n",
            "Epoch 10/20\n",
            "13662/13662 [==============================] - 29s 2ms/step - loss: 0.3590 - acc: 0.8460 - val_loss: 0.5147 - val_acc: 0.7752\n",
            "Epoch 11/20\n",
            "13662/13662 [==============================] - 30s 2ms/step - loss: 0.3573 - acc: 0.8488 - val_loss: 0.4997 - val_acc: 0.7872\n",
            "Epoch 12/20\n",
            "13662/13662 [==============================] - 29s 2ms/step - loss: 0.3544 - acc: 0.8515 - val_loss: 0.5299 - val_acc: 0.7684\n",
            "Epoch 13/20\n",
            "13662/13662 [==============================] - 29s 2ms/step - loss: 0.3499 - acc: 0.8538 - val_loss: 0.5093 - val_acc: 0.7720\n",
            "Epoch 14/20\n",
            "13662/13662 [==============================] - 29s 2ms/step - loss: 0.3490 - acc: 0.8543 - val_loss: 0.5180 - val_acc: 0.7755\n",
            "Epoch 15/20\n",
            "13662/13662 [==============================] - 30s 2ms/step - loss: 0.3504 - acc: 0.8560 - val_loss: 0.5256 - val_acc: 0.7722\n",
            "Epoch 16/20\n",
            "13662/13662 [==============================] - 30s 2ms/step - loss: 0.3429 - acc: 0.8586 - val_loss: 0.5387 - val_acc: 0.7687\n",
            "Epoch 17/20\n",
            "13662/13662 [==============================] - 29s 2ms/step - loss: 0.3453 - acc: 0.8550 - val_loss: 0.5250 - val_acc: 0.7755\n",
            "Epoch 18/20\n",
            "13662/13662 [==============================] - 29s 2ms/step - loss: 0.3424 - acc: 0.8603 - val_loss: 0.5075 - val_acc: 0.7822\n",
            "Epoch 19/20\n",
            "13662/13662 [==============================] - 29s 2ms/step - loss: 0.3383 - acc: 0.8606 - val_loss: 0.5411 - val_acc: 0.7714\n",
            "Epoch 20/20\n",
            "13662/13662 [==============================] - 29s 2ms/step - loss: 0.3344 - acc: 0.8632 - val_loss: 0.5634 - val_acc: 0.7538\n",
            "Score for fold 3: loss of 0.5282675309744169; acc of 76.99695229530334%\n",
            "------------------------------------------------------------------------\n",
            "Training for fold 4 ...\n",
            "Train on 13662 samples, validate on 3416 samples\n",
            "Epoch 1/20\n",
            "13662/13662 [==============================] - 29s 2ms/step - loss: 0.3670 - acc: 0.8494 - val_loss: 0.5164 - val_acc: 0.7769\n",
            "Epoch 2/20\n",
            "13662/13662 [==============================] - 29s 2ms/step - loss: 0.3544 - acc: 0.8534 - val_loss: 0.5207 - val_acc: 0.7848\n",
            "Epoch 3/20\n",
            "13662/13662 [==============================] - 29s 2ms/step - loss: 0.3495 - acc: 0.8540 - val_loss: 0.5338 - val_acc: 0.7699\n",
            "Epoch 4/20\n",
            "13662/13662 [==============================] - 30s 2ms/step - loss: 0.3504 - acc: 0.8560 - val_loss: 0.5202 - val_acc: 0.7775\n",
            "Epoch 5/20\n",
            "13662/13662 [==============================] - 29s 2ms/step - loss: 0.3448 - acc: 0.8576 - val_loss: 0.5470 - val_acc: 0.7731\n",
            "Epoch 6/20\n",
            "13662/13662 [==============================] - 30s 2ms/step - loss: 0.3383 - acc: 0.8629 - val_loss: 0.5367 - val_acc: 0.7784\n",
            "Epoch 7/20\n",
            "13662/13662 [==============================] - 29s 2ms/step - loss: 0.3417 - acc: 0.8618 - val_loss: 0.5396 - val_acc: 0.7752\n",
            "Epoch 8/20\n",
            "13662/13662 [==============================] - 29s 2ms/step - loss: 0.3380 - acc: 0.8627 - val_loss: 0.5477 - val_acc: 0.7728\n",
            "Epoch 9/20\n",
            "13662/13662 [==============================] - 29s 2ms/step - loss: 0.3330 - acc: 0.8681 - val_loss: 0.5259 - val_acc: 0.7831\n",
            "Epoch 10/20\n",
            "13662/13662 [==============================] - 29s 2ms/step - loss: 0.3291 - acc: 0.8672 - val_loss: 0.5890 - val_acc: 0.7561\n",
            "Epoch 11/20\n",
            "13662/13662 [==============================] - 29s 2ms/step - loss: 0.3275 - acc: 0.8719 - val_loss: 0.5337 - val_acc: 0.7790\n",
            "Epoch 12/20\n",
            "13662/13662 [==============================] - 30s 2ms/step - loss: 0.3245 - acc: 0.8729 - val_loss: 0.5521 - val_acc: 0.7755\n",
            "Epoch 13/20\n",
            "13662/13662 [==============================] - 29s 2ms/step - loss: 0.3221 - acc: 0.8746 - val_loss: 0.5463 - val_acc: 0.7749\n",
            "Epoch 14/20\n",
            "13662/13662 [==============================] - 29s 2ms/step - loss: 0.3275 - acc: 0.8704 - val_loss: 0.5842 - val_acc: 0.7635\n",
            "Epoch 15/20\n",
            "13662/13662 [==============================] - 29s 2ms/step - loss: 0.3214 - acc: 0.8737 - val_loss: 0.5738 - val_acc: 0.7664\n",
            "Epoch 16/20\n",
            "13662/13662 [==============================] - 30s 2ms/step - loss: 0.3197 - acc: 0.8771 - val_loss: 0.6173 - val_acc: 0.7480\n",
            "Epoch 17/20\n",
            "13662/13662 [==============================] - 29s 2ms/step - loss: 0.3105 - acc: 0.8798 - val_loss: 0.6031 - val_acc: 0.7658\n",
            "Epoch 18/20\n",
            "13662/13662 [==============================] - 29s 2ms/step - loss: 0.3135 - acc: 0.8761 - val_loss: 0.5709 - val_acc: 0.7649\n",
            "Epoch 19/20\n",
            "13662/13662 [==============================] - 29s 2ms/step - loss: 0.3089 - acc: 0.8772 - val_loss: 0.6075 - val_acc: 0.7588\n",
            "Epoch 20/20\n",
            "13662/13662 [==============================] - 30s 2ms/step - loss: 0.3100 - acc: 0.8805 - val_loss: 0.5881 - val_acc: 0.7746\n",
            "Score for fold 4: loss of 0.5263988876906847; acc of 79.29257154464722%\n",
            "------------------------------------------------------------------------\n",
            "Training for fold 5 ...\n",
            "Train on 13662 samples, validate on 3416 samples\n",
            "Epoch 1/20\n",
            "13662/13662 [==============================] - 29s 2ms/step - loss: 0.3518 - acc: 0.8611 - val_loss: 0.5552 - val_acc: 0.7702\n",
            "Epoch 2/20\n",
            "13662/13662 [==============================] - 29s 2ms/step - loss: 0.3378 - acc: 0.8660 - val_loss: 0.5925 - val_acc: 0.7597\n",
            "Epoch 3/20\n",
            "13662/13662 [==============================] - 30s 2ms/step - loss: 0.3339 - acc: 0.8699 - val_loss: 0.5827 - val_acc: 0.7594\n",
            "Epoch 4/20\n",
            "13662/13662 [==============================] - 29s 2ms/step - loss: 0.3306 - acc: 0.8691 - val_loss: 0.6307 - val_acc: 0.7313\n",
            "Epoch 5/20\n",
            "13662/13662 [==============================] - 29s 2ms/step - loss: 0.3247 - acc: 0.8735 - val_loss: 0.6143 - val_acc: 0.7400\n",
            "Epoch 6/20\n",
            "13662/13662 [==============================] - 30s 2ms/step - loss: 0.3201 - acc: 0.8747 - val_loss: 0.6074 - val_acc: 0.7550\n",
            "Epoch 7/20\n",
            "13662/13662 [==============================] - 29s 2ms/step - loss: 0.3179 - acc: 0.8773 - val_loss: 0.6130 - val_acc: 0.7415\n",
            "Epoch 8/20\n",
            "13662/13662 [==============================] - 29s 2ms/step - loss: 0.3153 - acc: 0.8784 - val_loss: 0.6254 - val_acc: 0.7626\n",
            "Epoch 9/20\n",
            "13662/13662 [==============================] - 29s 2ms/step - loss: 0.3122 - acc: 0.8775 - val_loss: 0.6119 - val_acc: 0.7453\n",
            "Epoch 10/20\n",
            "13662/13662 [==============================] - 29s 2ms/step - loss: 0.3138 - acc: 0.8780 - val_loss: 0.6168 - val_acc: 0.7406\n",
            "Epoch 11/20\n",
            "13662/13662 [==============================] - 29s 2ms/step - loss: 0.3119 - acc: 0.8808 - val_loss: 0.6399 - val_acc: 0.7611\n",
            "Epoch 12/20\n",
            "13662/13662 [==============================] - 30s 2ms/step - loss: 0.3084 - acc: 0.8835 - val_loss: 0.6708 - val_acc: 0.7412\n",
            "Epoch 13/20\n",
            "13662/13662 [==============================] - 30s 2ms/step - loss: 0.3024 - acc: 0.8863 - val_loss: 0.6573 - val_acc: 0.7444\n",
            "Epoch 14/20\n",
            "13662/13662 [==============================] - 29s 2ms/step - loss: 0.3020 - acc: 0.8882 - val_loss: 0.6992 - val_acc: 0.7392\n",
            "Epoch 15/20\n",
            "13662/13662 [==============================] - 29s 2ms/step - loss: 0.3086 - acc: 0.8842 - val_loss: 0.6346 - val_acc: 0.7482\n",
            "Epoch 16/20\n",
            "13662/13662 [==============================] - 29s 2ms/step - loss: 0.2978 - acc: 0.8874 - val_loss: 0.6569 - val_acc: 0.7474\n",
            "Epoch 17/20\n",
            "13662/13662 [==============================] - 30s 2ms/step - loss: 0.2992 - acc: 0.8854 - val_loss: 0.6448 - val_acc: 0.7292\n",
            "Epoch 18/20\n",
            "13662/13662 [==============================] - 29s 2ms/step - loss: 0.2964 - acc: 0.8872 - val_loss: 0.6042 - val_acc: 0.7670\n",
            "Epoch 19/20\n",
            "13662/13662 [==============================] - 29s 2ms/step - loss: 0.2971 - acc: 0.8890 - val_loss: 0.6796 - val_acc: 0.7424\n",
            "Epoch 20/20\n",
            "13662/13662 [==============================] - 29s 2ms/step - loss: 0.2913 - acc: 0.8904 - val_loss: 0.6656 - val_acc: 0.7345\n",
            "Score for fold 5: loss of 0.557054023687944; acc of 77.44202613830566%\n",
            "------------------------------------------------------------------------\n",
            "Score per fold\n",
            "------------------------------------------------------------------------\n",
            "> Fold 1 - Loss: 0.44094101546519815 - Accuracy: 80.51522374153137%\n",
            "------------------------------------------------------------------------\n",
            "> Fold 2 - Loss: 0.5233281651760432 - Accuracy: 76.62763595581055%\n",
            "------------------------------------------------------------------------\n",
            "> Fold 3 - Loss: 0.5282675309744169 - Accuracy: 76.99695229530334%\n",
            "------------------------------------------------------------------------\n",
            "> Fold 4 - Loss: 0.5263988876906847 - Accuracy: 79.29257154464722%\n",
            "------------------------------------------------------------------------\n",
            "> Fold 5 - Loss: 0.557054023687944 - Accuracy: 77.44202613830566%\n",
            "------------------------------------------------------------------------\n",
            "Average scores for all folds:\n",
            "> Accuracy: 78.17488193511963 (+- 1.4862702183556116)\n",
            "> Loss: 0.5151979245988574\n"
          ],
          "name": "stdout"
        }
      ]
    },
    {
      "cell_type": "code",
      "metadata": {
        "id": "kL9NqpVQzuQy",
        "colab_type": "code",
        "outputId": "158802ec-efc6-44fc-a394-fde4d86b96fc",
        "colab": {
          "base_uri": "https://localhost:8080/",
          "height": 312
        }
      },
      "source": [
        "import matplotlib.pyplot as plt\n",
        "plt.plot(history3.history['acc'],label='Training Accuracy')\n",
        "plt.plot(history3.history['val_acc'],label='Validation Accuracy')\n",
        "plt.title('model accuracy')\n",
        "plt.ylabel('accuracy')\n",
        "plt.xlabel('epoch')\n",
        "plt.legend()\n"
      ],
      "execution_count": 0,
      "outputs": [
        {
          "output_type": "execute_result",
          "data": {
            "text/plain": [
              "<matplotlib.legend.Legend at 0x7f6f8d412d68>"
            ]
          },
          "metadata": {
            "tags": []
          },
          "execution_count": 120
        },
        {
          "output_type": "display_data",
          "data": {
            "image/png": "[encoded data removed]",
            "text/plain": [
              "<Figure size 432x288 with 1 Axes>"
            ]
          },
          "metadata": {
            "tags": [],
            "needs_background": "light"
          }
        }
      ]
    },
    {
      "cell_type": "code",
      "metadata": {
        "id": "utL6mT5Iz0oi",
        "colab_type": "code",
        "outputId": "93d68f70-c3cf-41c4-f428-12419c98be77",
        "colab": {
          "base_uri": "https://localhost:8080/",
          "height": 312
        }
      },
      "source": [
        "plt.plot(history3.history['loss'],label='Training Loss')\n",
        "plt.plot(history3.history['val_loss'],label='Validation Accuracy')\n",
        "plt.title('model loss')\n",
        "plt.ylabel('loss')\n",
        "plt.xlabel('epoch')\n",
        "plt.legend()\n"
      ],
      "execution_count": 0,
      "outputs": [
        {
          "output_type": "execute_result",
          "data": {
            "text/plain": [
              "<matplotlib.legend.Legend at 0x7f6ebe8df6a0>"
            ]
          },
          "metadata": {
            "tags": []
          },
          "execution_count": 121
        },
        {
          "output_type": "display_data",
          "data": {
            "image/png": "[encoded data removed]",
            "text/plain": [
              "<Figure size 432x288 with 1 Axes>"
            ]
          },
          "metadata": {
            "tags": [],
            "needs_background": "light"
          }
        }
      ]
    },
    {
      "cell_type": "code",
      "metadata": {
        "id": "0KvVSvibRwcr",
        "colab_type": "code",
        "colab": {}
      },
      "source": [
        "model_Without_reg.save('drive/My Drive/RSNA_Pneumonia1.h5')\n",
        "model.save('drive/My Drive/RSNA_Pneumonia2.h5')\n",
        "model3.save('drive/My Drive/RSNA_Pneumonia3.h5')"
      ],
      "execution_count": 0,
      "outputs": []
    },
    {
      "cell_type": "markdown",
      "metadata": {
        "id": "qOwnhu4h1inU",
        "colab_type": "text"
      },
      "source": [
        "# **Model4**"
      ]
    },
    {
      "cell_type": "markdown",
      "metadata": {
        "id": "Jb0ScwtZgcZo",
        "colab_type": "text"
      },
      "source": [
        "**Becouse of data imbalance(positive cases represent 20% of all data), Try to add class_weight**"
      ]
    },
    {
      "cell_type": "code",
      "metadata": {
        "id": "EQNT1Wsohxxd",
        "colab_type": "code",
        "outputId": "befa1c91-c9fa-475a-9d04-6a1eb31a7fd4",
        "colab": {
          "base_uri": "https://localhost:8080/",
          "height": 34
        }
      },
      "source": [
        "from keras import models,layers,regularizers\n",
        "from keras import optimizers\n",
        "\n",
        "model4 = models.Sequential()\n",
        "model4.add(layers.Conv2D(32, (5, 5), activation='relu',\n",
        "                        input_shape=(150, 150, 1)))\n",
        "model4.add(layers.MaxPooling2D((2, 2)))\n",
        "model4.add(layers.Dropout(0.5))\n",
        "model4.add(layers.Conv2D(64, (3, 3), activation='relu'))\n",
        "model4.add(layers.MaxPooling2D((2, 2)))\n",
        "model4.add(layers.Dropout(0.5))\n",
        "model4.add(layers.Conv2D(128, (3, 3), activation='relu'))\n",
        "model4.add(layers.MaxPooling2D((2, 2)))\n",
        "model4.add(layers.Conv2D(256, (3, 3), activation='relu'))\n",
        "model4.add(layers.MaxPooling2D((2, 2)))\n",
        "model4.add(layers.Flatten())\n",
        "model4.add(layers.Dense(512,kernel_regularizer=regularizers.l2(0.001), activation='relu'))\n",
        "model4.add(layers.Dense(1, activation='sigmoid'))\n",
        "\n",
        "opt=optimizers.Adam(learning_rate=0.001, beta_1=0.9, beta_2=0.999, amsgrad=False)\n",
        "\n",
        "model4.compile(loss='binary_crossentropy',\n",
        "              optimizer=opt,\n",
        "              metrics=['acc'])"
      ],
      "execution_count": 0,
      "outputs": [
        {
          "output_type": "stream",
          "text": [
            "Using TensorFlow backend.\n"
          ],
          "name": "stderr"
        }
      ]
    },
    {
      "cell_type": "code",
      "metadata": {
        "id": "JOCfSlnbL4Xt",
        "colab_type": "code",
        "outputId": "5f7d0da2-b16b-471c-af58-145e8aa4d150",
        "colab": {
          "base_uri": "https://localhost:8080/",
          "height": 884
        }
      },
      "source": [
        "training_history_class_weight=model4.fit(x_train, y_train,validation_data=(x_val, y_val), epochs=25, batch_size=32,class_weight={1:0.8,0:0.2})"
      ],
      "execution_count": 0,
      "outputs": [
        {
          "output_type": "stream",
          "text": [
            "Train on 16010 samples, validate on 5337 samples\n",
            "Epoch 1/25\n",
            "16010/16010 [==============================] - 37s 2ms/step - loss: 0.1993 - acc: 0.6906 - val_loss: 0.8447 - val_acc: 0.4772\n",
            "Epoch 2/25\n",
            "16010/16010 [==============================] - 37s 2ms/step - loss: 0.1886 - acc: 0.7040 - val_loss: 0.7248 - val_acc: 0.6211\n",
            "Epoch 3/25\n",
            "16010/16010 [==============================] - 37s 2ms/step - loss: 0.1857 - acc: 0.7033 - val_loss: 0.7161 - val_acc: 0.6076\n",
            "Epoch 4/25\n",
            "16010/16010 [==============================] - 37s 2ms/step - loss: 0.1860 - acc: 0.7007 - val_loss: 0.6277 - val_acc: 0.6993\n",
            "Epoch 5/25\n",
            "16010/16010 [==============================] - 37s 2ms/step - loss: 0.1844 - acc: 0.7080 - val_loss: 0.6713 - val_acc: 0.6517\n",
            "Epoch 6/25\n",
            "16010/16010 [==============================] - 37s 2ms/step - loss: 0.1838 - acc: 0.7079 - val_loss: 0.7279 - val_acc: 0.5861\n",
            "Epoch 7/25\n",
            "16010/16010 [==============================] - 37s 2ms/step - loss: 0.1830 - acc: 0.6977 - val_loss: 0.6769 - val_acc: 0.6609\n",
            "Epoch 8/25\n",
            "16010/16010 [==============================] - 37s 2ms/step - loss: 0.1819 - acc: 0.7104 - val_loss: 0.7225 - val_acc: 0.6170\n",
            "Epoch 9/25\n",
            "16010/16010 [==============================] - 37s 2ms/step - loss: 0.1810 - acc: 0.7104 - val_loss: 0.6423 - val_acc: 0.6678\n",
            "Epoch 10/25\n",
            "16010/16010 [==============================] - 37s 2ms/step - loss: 0.1799 - acc: 0.7122 - val_loss: 0.9941 - val_acc: 0.3856\n",
            "Epoch 11/25\n",
            "16010/16010 [==============================] - 37s 2ms/step - loss: 0.1798 - acc: 0.7091 - val_loss: 0.6563 - val_acc: 0.6610\n",
            "Epoch 12/25\n",
            "16010/16010 [==============================] - 37s 2ms/step - loss: 0.1793 - acc: 0.7077 - val_loss: 0.5781 - val_acc: 0.7180\n",
            "Epoch 13/25\n",
            "16010/16010 [==============================] - 37s 2ms/step - loss: 0.1801 - acc: 0.7136 - val_loss: 0.7910 - val_acc: 0.5799\n",
            "Epoch 14/25\n",
            "16010/16010 [==============================] - 37s 2ms/step - loss: 0.1794 - acc: 0.7109 - val_loss: 0.7097 - val_acc: 0.6256\n",
            "Epoch 15/25\n",
            "16010/16010 [==============================] - 37s 2ms/step - loss: 0.1775 - acc: 0.7111 - val_loss: 0.6575 - val_acc: 0.6395\n",
            "Epoch 16/25\n",
            "16010/16010 [==============================] - 37s 2ms/step - loss: 0.1772 - acc: 0.7179 - val_loss: 0.6459 - val_acc: 0.6654\n",
            "Epoch 17/25\n",
            "16010/16010 [==============================] - 37s 2ms/step - loss: 0.1770 - acc: 0.7139 - val_loss: 0.7906 - val_acc: 0.5460\n",
            "Epoch 18/25\n",
            "16010/16010 [==============================] - 37s 2ms/step - loss: 0.1750 - acc: 0.7192 - val_loss: 0.7320 - val_acc: 0.6155\n",
            "Epoch 19/25\n",
            "16010/16010 [==============================] - 37s 2ms/step - loss: 0.1762 - acc: 0.7161 - val_loss: 0.7087 - val_acc: 0.6118\n",
            "Epoch 20/25\n",
            "16010/16010 [==============================] - 37s 2ms/step - loss: 0.1749 - acc: 0.7217 - val_loss: 0.7287 - val_acc: 0.6313\n",
            "Epoch 21/25\n",
            "16010/16010 [==============================] - 37s 2ms/step - loss: 0.1756 - acc: 0.7164 - val_loss: 0.6971 - val_acc: 0.6442\n",
            "Epoch 22/25\n",
            "16010/16010 [==============================] - 37s 2ms/step - loss: 0.1746 - acc: 0.7246 - val_loss: 0.6832 - val_acc: 0.6524\n",
            "Epoch 23/25\n",
            "16010/16010 [==============================] - 37s 2ms/step - loss: 0.1733 - acc: 0.7224 - val_loss: 0.6379 - val_acc: 0.6796\n",
            "Epoch 24/25\n",
            "16010/16010 [==============================] - 37s 2ms/step - loss: 0.1734 - acc: 0.7258 - val_loss: 0.7375 - val_acc: 0.5942\n",
            "Epoch 25/25\n",
            "16010/16010 [==============================] - 37s 2ms/step - loss: 0.1742 - acc: 0.7270 - val_loss: 0.8933 - val_acc: 0.5282\n"
          ],
          "name": "stdout"
        }
      ]
    },
    {
      "cell_type": "code",
      "metadata": {
        "id": "74TUlsQ8hlkc",
        "colab_type": "code",
        "outputId": "313cd385-d88f-4677-cafb-349f94a28fc8",
        "colab": {
          "base_uri": "https://localhost:8080/",
          "height": 312
        }
      },
      "source": [
        "import matplotlib.pyplot as plt\n",
        "plt.plot(training_history_class_weight.history['acc'],label='Training Accuracy')\n",
        "plt.plot(training_history_class_weight.history['val_acc'],label='Validation Accuracy')\n",
        "plt.title('model accuracy')\n",
        "plt.ylabel('accuracy')\n",
        "plt.xlabel('epoch')\n",
        "plt.legend()\n"
      ],
      "execution_count": 0,
      "outputs": [
        {
          "output_type": "execute_result",
          "data": {
            "text/plain": [
              "<matplotlib.legend.Legend at 0x7f9ef0233358>"
            ]
          },
          "metadata": {
            "tags": []
          },
          "execution_count": 19
        },
        {
          "output_type": "display_data",
          "data": {
            "image/png": "[encoded data removed]",
            "text/plain": [
              "<Figure size 432x288 with 1 Axes>"
            ]
          },
          "metadata": {
            "tags": [],
            "needs_background": "light"
          }
        }
      ]
    },
    {
      "cell_type": "code",
      "metadata": {
        "id": "MbIPHEOnnL0X",
        "colab_type": "code",
        "outputId": "81ad6cb3-11a8-44c4-b114-8edba6cf8638",
        "colab": {
          "base_uri": "https://localhost:8080/",
          "height": 312
        }
      },
      "source": [
        "plt.plot(training_history_class_weight.history['loss'],label='Training Loss')\n",
        "plt.plot(training_history_class_weight.history['val_loss'],label='Validation Accuracy')\n",
        "plt.title('model loss')\n",
        "plt.ylabel('loss')\n",
        "plt.xlabel('epoch')\n",
        "plt.legend()\n"
      ],
      "execution_count": 0,
      "outputs": [
        {
          "output_type": "execute_result",
          "data": {
            "text/plain": [
              "<matplotlib.legend.Legend at 0x7f9ef0163e10>"
            ]
          },
          "metadata": {
            "tags": []
          },
          "execution_count": 20
        },
        {
          "output_type": "display_data",
          "data": {
            "image/png": "[encoded data removed]",
            "text/plain": [
              "<Figure size 432x288 with 1 Axes>"
            ]
          },
          "metadata": {
            "tags": [],
            "needs_background": "light"
          }
        }
      ]
    },
    {
      "cell_type": "markdown",
      "metadata": {
        "id": "gl5-bg5w1pp9",
        "colab_type": "text"
      },
      "source": [
        "# **Model5**"
      ]
    },
    {
      "cell_type": "markdown",
      "metadata": {
        "id": "ofYpkUEyqrI-",
        "colab_type": "text"
      },
      "source": [
        "### **Minimize model complixty and use batch norm**"
      ]
    },
    {
      "cell_type": "code",
      "metadata": {
        "id": "VlzCAZ9Dq3xq",
        "colab_type": "code",
        "outputId": "94908869-fb4f-4613-a6d1-e4a8e9697c8c",
        "colab": {
          "base_uri": "https://localhost:8080/",
          "height": 595
        }
      },
      "source": [
        "model5 = models.Sequential()\n",
        "model5.add(layers.Conv2D(32, (5, 5), activation='relu',\n",
        "                        input_shape=(150, 150, 1)))\n",
        "model5.add(layers.BatchNormalization())\n",
        "model5.add(layers.MaxPooling2D((2, 2)))\n",
        "model5.add(layers.Dropout(0.5))\n",
        "model5.add(layers.Conv2D(64, (3, 3), activation='relu'))\n",
        "model5.add(layers.BatchNormalization())\n",
        "model5.add(layers.MaxPooling2D((2, 2)))\n",
        "model5.add(layers.Dropout(0.5))\n",
        "model5.add(layers.Conv2D(128, (3, 3), activation='relu'))\n",
        "model5.add(layers.MaxPooling2D((2, 2)))\n",
        "\n",
        "model5.add(layers.Flatten())\n",
        "model5.add(layers.Dense(512,kernel_regularizer=regularizers.l2(0.001), activation='relu'))\n",
        "model5.add(layers.Dense(1, activation='sigmoid'))\n",
        "\n",
        "opt=optimizers.Adam(learning_rate=0.001, beta_1=0.9, beta_2=0.999, amsgrad=False)\n",
        "\n",
        "model5.compile(loss='binary_crossentropy',\n",
        "              optimizer=opt,\n",
        "              metrics=['acc'])\n",
        "model5.summary()"
      ],
      "execution_count": 0,
      "outputs": [
        {
          "output_type": "stream",
          "text": [
            "Model: \"sequential_6\"\n",
            "_________________________________________________________________\n",
            "Layer (type)                 Output Shape              Param #   \n",
            "=================================================================\n",
            "conv2d_19 (Conv2D)           (None, 146, 146, 32)      832       \n",
            "_________________________________________________________________\n",
            "batch_normalization_2 (Batch (None, 146, 146, 32)      128       \n",
            "_________________________________________________________________\n",
            "max_pooling2d_19 (MaxPooling (None, 73, 73, 32)        0         \n",
            "_________________________________________________________________\n",
            "dropout_11 (Dropout)         (None, 73, 73, 32)        0         \n",
            "_________________________________________________________________\n",
            "conv2d_20 (Conv2D)           (None, 71, 71, 64)        18496     \n",
            "_________________________________________________________________\n",
            "batch_normalization_3 (Batch (None, 71, 71, 64)        256       \n",
            "_________________________________________________________________\n",
            "max_pooling2d_20 (MaxPooling (None, 35, 35, 64)        0         \n",
            "_________________________________________________________________\n",
            "dropout_12 (Dropout)         (None, 35, 35, 64)        0         \n",
            "_________________________________________________________________\n",
            "conv2d_21 (Conv2D)           (None, 33, 33, 128)       73856     \n",
            "_________________________________________________________________\n",
            "max_pooling2d_21 (MaxPooling (None, 16, 16, 128)       0         \n",
            "_________________________________________________________________\n",
            "flatten_6 (Flatten)          (None, 32768)             0         \n",
            "_________________________________________________________________\n",
            "dense_11 (Dense)             (None, 512)               16777728  \n",
            "_________________________________________________________________\n",
            "dense_12 (Dense)             (None, 1)                 513       \n",
            "=================================================================\n",
            "Total params: 16,871,809\n",
            "Trainable params: 16,871,617\n",
            "Non-trainable params: 192\n",
            "_________________________________________________________________\n"
          ],
          "name": "stdout"
        }
      ]
    },
    {
      "cell_type": "code",
      "metadata": {
        "id": "2v8YFAoPrNUp",
        "colab_type": "code",
        "outputId": "c443f6d9-531d-4bec-a1c0-dcb100855afa",
        "colab": {
          "base_uri": "https://localhost:8080/",
          "height": 884
        }
      },
      "source": [
        "training_history_BN=model5.fit(x_train, y_train,validation_data=(x_val, y_val), epochs=25, batch_size=32) #,class_weight={1:0.8,0:0.2})"
      ],
      "execution_count": 0,
      "outputs": [
        {
          "output_type": "stream",
          "text": [
            "Train on 16010 samples, validate on 5337 samples\n",
            "Epoch 1/25\n",
            "16010/16010 [==============================] - 75s 5ms/step - loss: 1.8793 - acc: 0.7758 - val_loss: 1.6837 - val_acc: 0.7767\n",
            "Epoch 2/25\n",
            "16010/16010 [==============================] - 74s 5ms/step - loss: 0.6402 - acc: 0.7944 - val_loss: 11.6424 - val_acc: 0.7768\n",
            "Epoch 3/25\n",
            "16010/16010 [==============================] - 74s 5ms/step - loss: 0.5229 - acc: 0.7993 - val_loss: 0.5884 - val_acc: 0.7991\n",
            "Epoch 4/25\n",
            "16010/16010 [==============================] - 74s 5ms/step - loss: 0.4754 - acc: 0.8034 - val_loss: 1.1247 - val_acc: 0.7787\n",
            "Epoch 5/25\n",
            "16010/16010 [==============================] - 74s 5ms/step - loss: 0.4587 - acc: 0.8043 - val_loss: 0.6599 - val_acc: 0.7890\n",
            "Epoch 6/25\n",
            "16010/16010 [==============================] - 74s 5ms/step - loss: 0.4506 - acc: 0.8077 - val_loss: 0.5224 - val_acc: 0.7883\n",
            "Epoch 7/25\n",
            "16010/16010 [==============================] - 74s 5ms/step - loss: 0.4424 - acc: 0.8126 - val_loss: 0.4361 - val_acc: 0.8168\n",
            "Epoch 8/25\n",
            "16010/16010 [==============================] - 74s 5ms/step - loss: 0.4408 - acc: 0.8119 - val_loss: 0.5001 - val_acc: 0.7920\n",
            "Epoch 9/25\n",
            "16010/16010 [==============================] - 74s 5ms/step - loss: 0.4340 - acc: 0.8181 - val_loss: 0.7504 - val_acc: 0.7787\n",
            "Epoch 10/25\n",
            "16010/16010 [==============================] - 74s 5ms/step - loss: 0.4367 - acc: 0.8168 - val_loss: 1.1375 - val_acc: 0.7765\n",
            "Epoch 11/25\n",
            "16010/16010 [==============================] - 74s 5ms/step - loss: 0.4371 - acc: 0.8161 - val_loss: 0.5013 - val_acc: 0.7753\n",
            "Epoch 12/25\n",
            "16010/16010 [==============================] - 74s 5ms/step - loss: 0.4332 - acc: 0.8187 - val_loss: 0.4664 - val_acc: 0.7958\n",
            "Epoch 13/25\n",
            "16010/16010 [==============================] - 74s 5ms/step - loss: 0.4311 - acc: 0.8165 - val_loss: 0.4584 - val_acc: 0.8004\n",
            "Epoch 14/25\n",
            "16010/16010 [==============================] - 74s 5ms/step - loss: 0.4212 - acc: 0.8203 - val_loss: 0.4424 - val_acc: 0.8091\n",
            "Epoch 15/25\n",
            "16010/16010 [==============================] - 74s 5ms/step - loss: 0.4168 - acc: 0.8237 - val_loss: 0.4390 - val_acc: 0.8109\n",
            "Epoch 16/25\n",
            "16010/16010 [==============================] - 74s 5ms/step - loss: 0.4131 - acc: 0.8244 - val_loss: 0.5823 - val_acc: 0.7782\n",
            "Epoch 17/25\n",
            "16010/16010 [==============================] - 74s 5ms/step - loss: 0.4080 - acc: 0.8307 - val_loss: 0.4996 - val_acc: 0.7868\n",
            "Epoch 18/25\n",
            "16010/16010 [==============================] - 74s 5ms/step - loss: 0.4071 - acc: 0.8322 - val_loss: 0.4499 - val_acc: 0.8123\n",
            "Epoch 19/25\n",
            "16010/16010 [==============================] - 74s 5ms/step - loss: 0.4013 - acc: 0.8325 - val_loss: 0.4930 - val_acc: 0.7933\n",
            "Epoch 20/25\n",
            "16010/16010 [==============================] - 74s 5ms/step - loss: 0.3971 - acc: 0.8379 - val_loss: 0.4687 - val_acc: 0.8042\n",
            "Epoch 21/25\n",
            "16010/16010 [==============================] - 74s 5ms/step - loss: 0.3861 - acc: 0.8419 - val_loss: 0.4569 - val_acc: 0.8138\n",
            "Epoch 22/25\n",
            "16010/16010 [==============================] - 74s 5ms/step - loss: 0.3900 - acc: 0.8446 - val_loss: 0.5194 - val_acc: 0.7870\n",
            "Epoch 23/25\n",
            "16010/16010 [==============================] - 74s 5ms/step - loss: 0.3768 - acc: 0.8495 - val_loss: 0.5099 - val_acc: 0.8025\n",
            "Epoch 24/25\n",
            "16010/16010 [==============================] - 74s 5ms/step - loss: 0.3723 - acc: 0.8532 - val_loss: 0.5012 - val_acc: 0.7943\n",
            "Epoch 25/25\n",
            "16010/16010 [==============================] - 74s 5ms/step - loss: 0.3693 - acc: 0.8590 - val_loss: 0.5476 - val_acc: 0.7856\n"
          ],
          "name": "stdout"
        }
      ]
    },
    {
      "cell_type": "code",
      "metadata": {
        "id": "jz6BHeKexLr2",
        "colab_type": "code",
        "outputId": "d1680f2b-8833-47c1-c335-d6e4fd9aeecb",
        "colab": {
          "base_uri": "https://localhost:8080/",
          "height": 312
        }
      },
      "source": [
        "import matplotlib.pyplot as plt\n",
        "plt.plot(training_history_BN.history['acc'],label='Training Accuracy')\n",
        "plt.plot(training_history_BN.history['val_acc'],label='Validation Accuracy')\n",
        "plt.title('model accuracy')\n",
        "plt.ylabel('accuracy')\n",
        "plt.xlabel('epoch')\n",
        "plt.legend()\n"
      ],
      "execution_count": 0,
      "outputs": [
        {
          "output_type": "execute_result",
          "data": {
            "text/plain": [
              "<matplotlib.legend.Legend at 0x7f9e9cf65f28>"
            ]
          },
          "metadata": {
            "tags": []
          },
          "execution_count": 28
        },
        {
          "output_type": "display_data",
          "data": {
            "image/png": "[encoded data removed]",
            "text/plain": [
              "<Figure size 432x288 with 1 Axes>"
            ]
          },
          "metadata": {
            "tags": [],
            "needs_background": "light"
          }
        }
      ]
    },
    {
      "cell_type": "code",
      "metadata": {
        "id": "XqC_Chl4xOdV",
        "colab_type": "code",
        "outputId": "b262caaa-5770-4a6d-e5ac-7bd7fbba5ea1",
        "colab": {
          "base_uri": "https://localhost:8080/",
          "height": 312
        }
      },
      "source": [
        "plt.plot(training_history_BN.history['loss'],label='Training Loss')\n",
        "plt.plot(training_history_BN.history['val_loss'],label='Validation Accuracy')\n",
        "plt.title('model loss')\n",
        "plt.ylabel('loss')\n",
        "plt.xlabel('epoch')\n",
        "plt.legend()\n"
      ],
      "execution_count": 0,
      "outputs": [
        {
          "output_type": "execute_result",
          "data": {
            "text/plain": [
              "<matplotlib.legend.Legend at 0x7f9e98cb5ef0>"
            ]
          },
          "metadata": {
            "tags": []
          },
          "execution_count": 29
        },
        {
          "output_type": "display_data",
          "data": {
            "image/png": "[encoded data removed]",
            "text/plain": [
              "<Figure size 432x288 with 1 Axes>"
            ]
          },
          "metadata": {
            "tags": [],
            "needs_background": "light"
          }
        }
      ]
    },
    {
      "cell_type": "markdown",
      "metadata": {
        "id": "0XIXEZVC1vX8",
        "colab_type": "text"
      },
      "source": [
        "# **Evaluate Model5**"
      ]
    },
    {
      "cell_type": "code",
      "metadata": {
        "id": "Q-vTAGkNsTAo",
        "colab_type": "code",
        "outputId": "1dc3f675-3a76-4e6e-eaac-fd0a54d65240",
        "colab": {
          "base_uri": "https://localhost:8080/",
          "height": 51
        }
      },
      "source": [
        "scores = model5.evaluate(X_test, Y_test, verbose=0)\n",
        "print('Test loss:', scores[0]) \n",
        "print('Test accuracy:', scores[1])"
      ],
      "execution_count": 0,
      "outputs": [
        {
          "output_type": "stream",
          "text": [
            "Test loss: 0.5405748015779535\n",
            "Test accuracy: 0.7884579300880432\n"
          ],
          "name": "stdout"
        }
      ]
    },
    {
      "cell_type": "code",
      "metadata": {
        "id": "UjBcnvUuzfVw",
        "colab_type": "code",
        "colab": {}
      },
      "source": [
        "model5.save('drive/My Drive/RSNA_Pneumonia5.h5')"
      ],
      "execution_count": 0,
      "outputs": []
    },
    {
      "cell_type": "markdown",
      "metadata": {
        "id": "T9PVmbwd29OY",
        "colab_type": "text"
      },
      "source": [
        "# **Notes**"
      ]
    },
    {
      "cell_type": "markdown",
      "metadata": {
        "id": "9YMJiXVP3D83",
        "colab_type": "text"
      },
      "source": [
        "- Becouse of data imbalance there is a big overfitting. I tried to solve it by reduce model complixty , Add Regularization (dropout , L2, Batch Norm), Try to use weight class to pay more attention to positive cases ``(label 1)`` \n",
        "- the reason of didn't make Augumantation that input image must have its normal shape (there is no x-ray with flips or shear or even rotate)\n",
        "-Next steps:\n",
        "             - I'll try to use custom data generator to reduce memory usage\n",
        "             - add more regularization \n",
        "             -try another model archtecture "
      ]
    },
    {
      "cell_type": "markdown",
      "metadata": {
        "id": "PU8w4FGBPDux",
        "colab_type": "text"
      },
      "source": [
        "# **Custom Data Loader**"
      ]
    },
    {
      "cell_type": "code",
      "metadata": {
        "id": "MI63ZquKPDCP",
        "colab_type": "code",
        "colab": {}
      },
      "source": [
        "from keras.utils import Sequence\n",
        "\n",
        "class rsna_dataset(Sequence):\n",
        "\n",
        "  def __init__(self, data_path, batch_size=32, dim=(150,150)):\n",
        "    self.img_dir=\n",
        "\n",
        "    return\n",
        "  def __len__(self):\n",
        "    return\n",
        "\n",
        "  def __getitem__(self,index):\n",
        "\n",
        "\n",
        "    return"
      ],
      "execution_count": 0,
      "outputs": []
    },
    {
      "cell_type": "code",
      "metadata": {
        "id": "aVzqiaUuPW_r",
        "colab_type": "code",
        "colab": {}
      },
      "source": [
        "patientId = df['patientId'][3]\n",
        "dcm_file = train_dir + '%s.dcm' % patientId\n",
        "dcm_data = pydicom.read_file(dcm_file)\n",
        "im = dcm_data.pixel_array"
      ],
      "execution_count": 0,
      "outputs": []
    },
    {
      "cell_type": "code",
      "metadata": {
        "id": "MwtZWWwtVgIO",
        "colab_type": "code",
        "colab": {}
      },
      "source": [
        "pp=(os.listdir(train_dir))"
      ],
      "execution_count": 0,
      "outputs": []
    },
    {
      "cell_type": "code",
      "metadata": {
        "id": "6wz0hHGjVviq",
        "colab_type": "code",
        "outputId": "edc3a0f6-9255-4168-ea81-65b5fd2a9e86",
        "colab": {
          "base_uri": "https://localhost:8080/",
          "height": 34
        }
      },
      "source": [
        "pp[26683]"
      ],
      "execution_count": 0,
      "outputs": [
        {
          "output_type": "execute_result",
          "data": {
            "text/plain": [
              "'f54cd24e-1464-46f4-b8b3-3e6946ae2584.dcm'"
            ]
          },
          "metadata": {
            "tags": []
          },
          "execution_count": 29
        }
      ]
    },
    {
      "cell_type": "code",
      "metadata": {
        "id": "peeO_bkhV2zZ",
        "colab_type": "code",
        "colab": {}
      },
      "source": [
        "'0004cfab-14fd-4e49-80ba-63a80b6bddd6'-'%s.dcm' % patientId"
      ],
      "execution_count": 0,
      "outputs": []
    },
    {
      "cell_type": "code",
      "metadata": {
        "id": "jDQ89A8HXEim",
        "colab_type": "code",
        "colab": {}
      },
      "source": [
        "from keras.utils import Sequence\n",
        "class CAMVID_Dataset(Sequence):\n",
        "\n",
        "\n",
        "    def __init__(self, images_dir, batch_size=4, dim=(150,150), n_classes=32, data_type='train', shape='normal'):\n",
        "\n",
        "        self.images_dir =images_dir # str(data_path) + '/' + data_type + '/'\n",
        "        self.masks_dir = str(data_path) + '/' + data_type + '_labels/'\n",
        "        assert len(os.listdir(self.images_dir)) == len(os.listdir(self.masks_dir))\n",
        "        self.data_type = data_type\n",
        "        self.shape = shape\n",
        "        self.batch_size = batch_size\n",
        "        self.dim = dim\n",
        "        self.n = len(os.listdir(self.images_dir))\n",
        "        self.n_batches = int(np.floor(self.n  / self.batch_size))\n",
        "        self.indexes = np.arange(self.n)\n",
        "\n",
        "    def __len__(self):\n",
        "        return  self.n_batches\n",
        "\n",
        "    def __getitem__(self, index):\n",
        "        X = np.empty((self.batch_size, *self.dim, 3))\n",
        "        Y = np.zeros((self.batch_size, *self.dim, n_classes))\n",
        "        indexes = self.indexes[index*self.batch_size:(index+1)*self.batch_size]\n",
        "        \n",
        "        # Generate data\n",
        "        for i, ID in enumerate(indexes):\n",
        "          idx = ID\n",
        "\n",
        "          file = sorted(os.listdir(self.images_dir))[idx]\n",
        "\n",
        "          # Load image\n",
        "          pydicom.read_file(images_dir).pixel_array\n",
        "          image = np.array( pydicom.read_file(images_dir).pixel_array b+ file, target_size=(150,150)))*1./255\n",
        "\n",
        "\n",
        "      \n",
        "        return X, Y\n",
        "      "
      ],
      "execution_count": 0,
      "outputs": []
    },
    {
      "cell_type": "code",
      "metadata": {
        "id": "S50_y9V_FVZY",
        "colab_type": "code",
        "colab": {}
      },
      "source": [
        "dff = pd.read_csv('stage_2_train_labels.csv')\n"
      ],
      "execution_count": 0,
      "outputs": []
    },
    {
      "cell_type": "code",
      "metadata": {
        "id": "nHoBqktYFffP",
        "colab_type": "code",
        "outputId": "5e354c36-540a-4d3f-c03a-5826b6449cb2",
        "colab": {
          "base_uri": "https://localhost:8080/",
          "height": 197
        }
      },
      "source": [
        "dff.head()"
      ],
      "execution_count": 0,
      "outputs": [
        {
          "output_type": "execute_result",
          "data": {
            "text/html": [
              "<div>\n",
              "<style scoped>\n",
              "    .dataframe tbody tr th:only-of-type {\n",
              "        vertical-align: middle;\n",
              "    }\n",
              "\n",
              "    .dataframe tbody tr th {\n",
              "        vertical-align: top;\n",
              "    }\n",
              "\n",
              "    .dataframe thead th {\n",
              "        text-align: right;\n",
              "    }\n",
              "</style>\n",
              "<table border=\"1\" class=\"dataframe\">\n",
              "  <thead>\n",
              "    <tr style=\"text-align: right;\">\n",
              "      <th></th>\n",
              "      <th>patientId</th>\n",
              "      <th>x</th>\n",
              "      <th>y</th>\n",
              "      <th>width</th>\n",
              "      <th>height</th>\n",
              "      <th>Target</th>\n",
              "    </tr>\n",
              "  </thead>\n",
              "  <tbody>\n",
              "    <tr>\n",
              "      <th>0</th>\n",
              "      <td>0004cfab-14fd-4e49-80ba-63a80b6bddd6</td>\n",
              "      <td>NaN</td>\n",
              "      <td>NaN</td>\n",
              "      <td>NaN</td>\n",
              "      <td>NaN</td>\n",
              "      <td>0</td>\n",
              "    </tr>\n",
              "    <tr>\n",
              "      <th>1</th>\n",
              "      <td>00313ee0-9eaa-42f4-b0ab-c148ed3241cd</td>\n",
              "      <td>NaN</td>\n",
              "      <td>NaN</td>\n",
              "      <td>NaN</td>\n",
              "      <td>NaN</td>\n",
              "      <td>0</td>\n",
              "    </tr>\n",
              "    <tr>\n",
              "      <th>2</th>\n",
              "      <td>00322d4d-1c29-4943-afc9-b6754be640eb</td>\n",
              "      <td>NaN</td>\n",
              "      <td>NaN</td>\n",
              "      <td>NaN</td>\n",
              "      <td>NaN</td>\n",
              "      <td>0</td>\n",
              "    </tr>\n",
              "    <tr>\n",
              "      <th>3</th>\n",
              "      <td>003d8fa0-6bf1-40ed-b54c-ac657f8495c5</td>\n",
              "      <td>NaN</td>\n",
              "      <td>NaN</td>\n",
              "      <td>NaN</td>\n",
              "      <td>NaN</td>\n",
              "      <td>0</td>\n",
              "    </tr>\n",
              "    <tr>\n",
              "      <th>4</th>\n",
              "      <td>00436515-870c-4b36-a041-de91049b9ab4</td>\n",
              "      <td>264.0</td>\n",
              "      <td>152.0</td>\n",
              "      <td>213.0</td>\n",
              "      <td>379.0</td>\n",
              "      <td>1</td>\n",
              "    </tr>\n",
              "  </tbody>\n",
              "</table>\n",
              "</div>"
            ],
            "text/plain": [
              "                              patientId      x      y  width  height  Target\n",
              "0  0004cfab-14fd-4e49-80ba-63a80b6bddd6    NaN    NaN    NaN     NaN       0\n",
              "1  00313ee0-9eaa-42f4-b0ab-c148ed3241cd    NaN    NaN    NaN     NaN       0\n",
              "2  00322d4d-1c29-4943-afc9-b6754be640eb    NaN    NaN    NaN     NaN       0\n",
              "3  003d8fa0-6bf1-40ed-b54c-ac657f8495c5    NaN    NaN    NaN     NaN       0\n",
              "4  00436515-870c-4b36-a041-de91049b9ab4  264.0  152.0  213.0   379.0       1"
            ]
          },
          "metadata": {
            "tags": []
          },
          "execution_count": 5
        }
      ]
    },
    {
      "cell_type": "code",
      "metadata": {
        "id": "rWxJUgPiFh9d",
        "colab_type": "code",
        "colab": {}
      },
      "source": [
        ""
      ],
      "execution_count": 0,
      "outputs": []
    }
  ]
}